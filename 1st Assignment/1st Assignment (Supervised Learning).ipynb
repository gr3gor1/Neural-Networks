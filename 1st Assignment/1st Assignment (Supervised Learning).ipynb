{
  "nbformat": 4,
  "nbformat_minor": 0,
  "metadata": {
    "colab": {
      "provenance": [],
      "collapsed_sections": [
        "vJcDGVNxWlKa",
        "t9CC1emNvWjo"
      ],
      "toc_visible": true
    },
    "kernelspec": {
      "name": "python3",
      "display_name": "Python 3"
    },
    "language_info": {
      "name": "python"
    },
    "gpuClass": "standard"
  },
  "cells": [
    {
      "cell_type": "markdown",
      "source": [
        "#Εργασία 1η - Επιβλεπόμενη Μάθηση\n",
        "## Νευρωνικά Δίκτυα και Ευφυή Υπολογιστικά Συστήματα\n"
      ],
      "metadata": {
        "id": "nOK585XsIKV-"
      }
    },
    {
      "cell_type": "markdown",
      "source": [
        "Datasets: \n",
        "\n",
        "1.   U13 - EEG Eye State\n",
        "2.   K07 - Dry Bean Dataset\n",
        "\n"
      ],
      "metadata": {
        "id": "REHp9Yhpj6Dj"
      }
    },
    {
      "cell_type": "markdown",
      "source": [
        "# **Μέρος Πρώτο**\n"
      ],
      "metadata": {
        "id": "teW86d9GIW29"
      }
    },
    {
      "cell_type": "markdown",
      "source": [
        "## **Εισαγωγή και Προεπισκόπηση**"
      ],
      "metadata": {
        "id": "7_qDXbnALEy-"
      }
    },
    {
      "cell_type": "markdown",
      "source": [
        "<ul>\n",
        "<li>Το συγκεκριμένο dataset συγκεντρώνει τις παρατηρήσεις από μια μέτρηση EEG για χρονικό διάστημα 117secs. Συγκεκριμένα αυτή η μέτρηση αφορά στην καταγραφή της \"ηλεκτρικής\" δραστηριότητας του εγκεφάλου ανά διαφορετικές ομάδες νευρώνων. Κατά τη διάρκεια της μέτρησης μια κάμερα κατέγραφε πότε τα μάτια ήταν ανοικτά ή κλειστά. Η κατάσταση ανοικτού/κλειστού ματιού στη συνέχεια καταγράφηκε χειροκίνητα σε κάθε χρονικό βήμα. Συνολικά έγιναν 14.980 καταγραφές με 15 χαρακτηριστικά, με τα 14 να αφορούν τις τιμές των ηλεκτροδίων και 1 την κατάσταση των ματιών. Σκοπός είναι να φτιαχθεί ένα μοντέλο που να μπορεί να προβλέψει εάν τα μάτια είναι ανοιχτά ή κλειστά βάσει αυτών των τιμών.</li>\n",
        "<br>\n",
        "<li>\n",
        "Δεν χρειάζεται να κάνουμε κάποια αλλαγή στο αρχείο αφού μπορούμε να το ανοίξουμε κανονικά χρησιμοποιώντας τη βιβλιοθήκη scipi.io όπως φαίνεται και παρακάτω.\n",
        "</li>\n",
        "</ul>"
      ],
      "metadata": {
        "id": "mn4qtn2tE8fW"
      }
    },
    {
      "cell_type": "markdown",
      "source": [
        "Ανάγνωση αρχείου .arff"
      ],
      "metadata": {
        "id": "EQUUBtvrJJ-f"
      }
    },
    {
      "cell_type": "code",
      "source": [
        "from scipy.io import arff\n",
        "import pandas as pd\n",
        "import seaborn as sns\n",
        "data = arff.loadarff('EEG Eye State.arff')\n",
        "df = pd.DataFrame(data[0])\n",
        "df.head()"
      ],
      "metadata": {
        "colab": {
          "base_uri": "https://localhost:8080/",
          "height": 270
        },
        "id": "Q6OfV_sZelxs",
        "outputId": "f1b3b210-797c-4c4b-f3cd-d51147df1694"
      },
      "execution_count": null,
      "outputs": [
        {
          "output_type": "execute_result",
          "data": {
            "text/plain": [
              "       AF3       F7       F3      FC5       T7       P7       O1       O2  \\\n",
              "0  4329.23  4009.23  4289.23  4148.21  4350.26  4586.15  4096.92  4641.03   \n",
              "1  4324.62  4004.62  4293.85  4148.72  4342.05  4586.67  4097.44  4638.97   \n",
              "2  4327.69  4006.67  4295.38  4156.41  4336.92  4583.59  4096.92  4630.26   \n",
              "3  4328.72  4011.79  4296.41  4155.90  4343.59  4582.56  4097.44  4630.77   \n",
              "4  4326.15  4011.79  4292.31  4151.28  4347.69  4586.67  4095.90  4627.69   \n",
              "\n",
              "        P8       T8      FC6       F4       F8      AF4 eyeDetection  \n",
              "0  4222.05  4238.46  4211.28  4280.51  4635.90  4393.85         b'0'  \n",
              "1  4210.77  4226.67  4207.69  4279.49  4632.82  4384.10         b'0'  \n",
              "2  4207.69  4222.05  4206.67  4282.05  4628.72  4389.23         b'0'  \n",
              "3  4217.44  4235.38  4210.77  4287.69  4632.31  4396.41         b'0'  \n",
              "4  4210.77  4244.10  4212.82  4288.21  4632.82  4398.46         b'0'  "
            ],
            "text/html": [
              "\n",
              "  <div id=\"df-1e0855e2-7ca9-407b-bfb6-68b74898e339\">\n",
              "    <div class=\"colab-df-container\">\n",
              "      <div>\n",
              "<style scoped>\n",
              "    .dataframe tbody tr th:only-of-type {\n",
              "        vertical-align: middle;\n",
              "    }\n",
              "\n",
              "    .dataframe tbody tr th {\n",
              "        vertical-align: top;\n",
              "    }\n",
              "\n",
              "    .dataframe thead th {\n",
              "        text-align: right;\n",
              "    }\n",
              "</style>\n",
              "<table border=\"1\" class=\"dataframe\">\n",
              "  <thead>\n",
              "    <tr style=\"text-align: right;\">\n",
              "      <th></th>\n",
              "      <th>AF3</th>\n",
              "      <th>F7</th>\n",
              "      <th>F3</th>\n",
              "      <th>FC5</th>\n",
              "      <th>T7</th>\n",
              "      <th>P7</th>\n",
              "      <th>O1</th>\n",
              "      <th>O2</th>\n",
              "      <th>P8</th>\n",
              "      <th>T8</th>\n",
              "      <th>FC6</th>\n",
              "      <th>F4</th>\n",
              "      <th>F8</th>\n",
              "      <th>AF4</th>\n",
              "      <th>eyeDetection</th>\n",
              "    </tr>\n",
              "  </thead>\n",
              "  <tbody>\n",
              "    <tr>\n",
              "      <th>0</th>\n",
              "      <td>4329.23</td>\n",
              "      <td>4009.23</td>\n",
              "      <td>4289.23</td>\n",
              "      <td>4148.21</td>\n",
              "      <td>4350.26</td>\n",
              "      <td>4586.15</td>\n",
              "      <td>4096.92</td>\n",
              "      <td>4641.03</td>\n",
              "      <td>4222.05</td>\n",
              "      <td>4238.46</td>\n",
              "      <td>4211.28</td>\n",
              "      <td>4280.51</td>\n",
              "      <td>4635.90</td>\n",
              "      <td>4393.85</td>\n",
              "      <td>b'0'</td>\n",
              "    </tr>\n",
              "    <tr>\n",
              "      <th>1</th>\n",
              "      <td>4324.62</td>\n",
              "      <td>4004.62</td>\n",
              "      <td>4293.85</td>\n",
              "      <td>4148.72</td>\n",
              "      <td>4342.05</td>\n",
              "      <td>4586.67</td>\n",
              "      <td>4097.44</td>\n",
              "      <td>4638.97</td>\n",
              "      <td>4210.77</td>\n",
              "      <td>4226.67</td>\n",
              "      <td>4207.69</td>\n",
              "      <td>4279.49</td>\n",
              "      <td>4632.82</td>\n",
              "      <td>4384.10</td>\n",
              "      <td>b'0'</td>\n",
              "    </tr>\n",
              "    <tr>\n",
              "      <th>2</th>\n",
              "      <td>4327.69</td>\n",
              "      <td>4006.67</td>\n",
              "      <td>4295.38</td>\n",
              "      <td>4156.41</td>\n",
              "      <td>4336.92</td>\n",
              "      <td>4583.59</td>\n",
              "      <td>4096.92</td>\n",
              "      <td>4630.26</td>\n",
              "      <td>4207.69</td>\n",
              "      <td>4222.05</td>\n",
              "      <td>4206.67</td>\n",
              "      <td>4282.05</td>\n",
              "      <td>4628.72</td>\n",
              "      <td>4389.23</td>\n",
              "      <td>b'0'</td>\n",
              "    </tr>\n",
              "    <tr>\n",
              "      <th>3</th>\n",
              "      <td>4328.72</td>\n",
              "      <td>4011.79</td>\n",
              "      <td>4296.41</td>\n",
              "      <td>4155.90</td>\n",
              "      <td>4343.59</td>\n",
              "      <td>4582.56</td>\n",
              "      <td>4097.44</td>\n",
              "      <td>4630.77</td>\n",
              "      <td>4217.44</td>\n",
              "      <td>4235.38</td>\n",
              "      <td>4210.77</td>\n",
              "      <td>4287.69</td>\n",
              "      <td>4632.31</td>\n",
              "      <td>4396.41</td>\n",
              "      <td>b'0'</td>\n",
              "    </tr>\n",
              "    <tr>\n",
              "      <th>4</th>\n",
              "      <td>4326.15</td>\n",
              "      <td>4011.79</td>\n",
              "      <td>4292.31</td>\n",
              "      <td>4151.28</td>\n",
              "      <td>4347.69</td>\n",
              "      <td>4586.67</td>\n",
              "      <td>4095.90</td>\n",
              "      <td>4627.69</td>\n",
              "      <td>4210.77</td>\n",
              "      <td>4244.10</td>\n",
              "      <td>4212.82</td>\n",
              "      <td>4288.21</td>\n",
              "      <td>4632.82</td>\n",
              "      <td>4398.46</td>\n",
              "      <td>b'0'</td>\n",
              "    </tr>\n",
              "  </tbody>\n",
              "</table>\n",
              "</div>\n",
              "      <button class=\"colab-df-convert\" onclick=\"convertToInteractive('df-1e0855e2-7ca9-407b-bfb6-68b74898e339')\"\n",
              "              title=\"Convert this dataframe to an interactive table.\"\n",
              "              style=\"display:none;\">\n",
              "        \n",
              "  <svg xmlns=\"http://www.w3.org/2000/svg\" height=\"24px\"viewBox=\"0 0 24 24\"\n",
              "       width=\"24px\">\n",
              "    <path d=\"M0 0h24v24H0V0z\" fill=\"none\"/>\n",
              "    <path d=\"M18.56 5.44l.94 2.06.94-2.06 2.06-.94-2.06-.94-.94-2.06-.94 2.06-2.06.94zm-11 1L8.5 8.5l.94-2.06 2.06-.94-2.06-.94L8.5 2.5l-.94 2.06-2.06.94zm10 10l.94 2.06.94-2.06 2.06-.94-2.06-.94-.94-2.06-.94 2.06-2.06.94z\"/><path d=\"M17.41 7.96l-1.37-1.37c-.4-.4-.92-.59-1.43-.59-.52 0-1.04.2-1.43.59L10.3 9.45l-7.72 7.72c-.78.78-.78 2.05 0 2.83L4 21.41c.39.39.9.59 1.41.59.51 0 1.02-.2 1.41-.59l7.78-7.78 2.81-2.81c.8-.78.8-2.07 0-2.86zM5.41 20L4 18.59l7.72-7.72 1.47 1.35L5.41 20z\"/>\n",
              "  </svg>\n",
              "      </button>\n",
              "      \n",
              "  <style>\n",
              "    .colab-df-container {\n",
              "      display:flex;\n",
              "      flex-wrap:wrap;\n",
              "      gap: 12px;\n",
              "    }\n",
              "\n",
              "    .colab-df-convert {\n",
              "      background-color: #E8F0FE;\n",
              "      border: none;\n",
              "      border-radius: 50%;\n",
              "      cursor: pointer;\n",
              "      display: none;\n",
              "      fill: #1967D2;\n",
              "      height: 32px;\n",
              "      padding: 0 0 0 0;\n",
              "      width: 32px;\n",
              "    }\n",
              "\n",
              "    .colab-df-convert:hover {\n",
              "      background-color: #E2EBFA;\n",
              "      box-shadow: 0px 1px 2px rgba(60, 64, 67, 0.3), 0px 1px 3px 1px rgba(60, 64, 67, 0.15);\n",
              "      fill: #174EA6;\n",
              "    }\n",
              "\n",
              "    [theme=dark] .colab-df-convert {\n",
              "      background-color: #3B4455;\n",
              "      fill: #D2E3FC;\n",
              "    }\n",
              "\n",
              "    [theme=dark] .colab-df-convert:hover {\n",
              "      background-color: #434B5C;\n",
              "      box-shadow: 0px 1px 3px 1px rgba(0, 0, 0, 0.15);\n",
              "      filter: drop-shadow(0px 1px 2px rgba(0, 0, 0, 0.3));\n",
              "      fill: #FFFFFF;\n",
              "    }\n",
              "  </style>\n",
              "\n",
              "      <script>\n",
              "        const buttonEl =\n",
              "          document.querySelector('#df-1e0855e2-7ca9-407b-bfb6-68b74898e339 button.colab-df-convert');\n",
              "        buttonEl.style.display =\n",
              "          google.colab.kernel.accessAllowed ? 'block' : 'none';\n",
              "\n",
              "        async function convertToInteractive(key) {\n",
              "          const element = document.querySelector('#df-1e0855e2-7ca9-407b-bfb6-68b74898e339');\n",
              "          const dataTable =\n",
              "            await google.colab.kernel.invokeFunction('convertToInteractive',\n",
              "                                                     [key], {});\n",
              "          if (!dataTable) return;\n",
              "\n",
              "          const docLinkHtml = 'Like what you see? Visit the ' +\n",
              "            '<a target=\"_blank\" href=https://colab.research.google.com/notebooks/data_table.ipynb>data table notebook</a>'\n",
              "            + ' to learn more about interactive tables.';\n",
              "          element.innerHTML = '';\n",
              "          dataTable['output_type'] = 'display_data';\n",
              "          await google.colab.output.renderOutput(dataTable, element);\n",
              "          const docLink = document.createElement('div');\n",
              "          docLink.innerHTML = docLinkHtml;\n",
              "          element.appendChild(docLink);\n",
              "        }\n",
              "      </script>\n",
              "    </div>\n",
              "  </div>\n",
              "  "
            ]
          },
          "metadata": {},
          "execution_count": 1
        }
      ]
    },
    {
      "cell_type": "markdown",
      "source": [
        "<ul>\n",
        "<li>Παρακάτω δίνουμε τον συνολικό αριθμό δειγμάτων (df.shape[0]).</li>\n",
        "<br>\n",
        "<li>Ο αριθμός και το είδος των χαρακτηριστικών (δραστηριότητα στις ομάδες νευρώνων στον εγκέφαλο) περιγράφονται από τις στήλες του dataframe εξαιρώντας την στήλη που περιγράφει αν το μάτι είναι ανοικτό ή κλειστό.</li>\n",
        "</ul>"
      ],
      "metadata": {
        "id": "sK2moz6PHGtA"
      }
    },
    {
      "cell_type": "code",
      "source": [
        "print(\"Total number of elements :\",df.shape[0])\n",
        "detect=df.columns.tolist()\n",
        "detect.pop()\n",
        "print(\"Number of attributes :\",len(detect))\n",
        "print(\"Attributes are :\",detect)"
      ],
      "metadata": {
        "colab": {
          "base_uri": "https://localhost:8080/"
        },
        "id": "6f2hb1MRHGX3",
        "outputId": "f46669d4-0cc0-415c-86e2-a92faceab858"
      },
      "execution_count": null,
      "outputs": [
        {
          "output_type": "stream",
          "name": "stdout",
          "text": [
            "Total number of elements : 14980\n",
            "Number of attributes : 14\n",
            "Attributes are : ['AF3', 'F7', 'F3', 'FC5', 'T7', 'P7', 'O1', 'O2', 'P8', 'T8', 'FC6', 'F4', 'F8', 'AF4']\n"
          ]
        }
      ]
    },
    {
      "cell_type": "markdown",
      "source": [
        "<ul>\n",
        "<li>Παρατηρούμε πως εμφανίζεται κανονικά αρίθμηση γραμμών στο dataframe ωστόσο δεν μπορούμε να γνωρίζουμε αν υπήρχε και αρχικά στο .arff αρχείο. Ανοίγοντας στο Atom το αρχείο μπορούμε να δούμε πως στον αρχικό τύπο αρχείου δεν εμφανίζεται κάποια αρίθμηση γραμμών.</li>\n",
        "<br>\n",
        "<li>Οι ετικέτες των κλάσεων μπορούν να εντοπιστούν στη στήλη eyeDetection. Τα δεδομένα της συγκεκριμένης στήλης υποδεικνύουν το κατά πόσο το μάτι είναι ανοικτό (0) ή κατά πόσο είναι κλειστό (1).</li>\n",
        "<br>\n",
        "<li>Παρατηρούμε όπως φαίνεται και παρακάτω πως δεν υπάρχουν απουσιάζουσες τιμές σε κάποιο δείγμα.</li>\n",
        "<ul>"
      ],
      "metadata": {
        "id": "Zk5HaVJOKCm0"
      }
    },
    {
      "cell_type": "markdown",
      "source": [
        "<ul>\n",
        "<li>Το πλήθος των κλάσεων είναι δύο η κλάση 0 εμφανίζεται στο dataset με ποσοστό 55.12 % και η κλάση 1 εμφανίζεται με ποσοστό 44.88 %. Συνέπως παρατηρούμε πως το dataset είναι ισορροπημένο.</li>\n",
        "</ul>"
      ],
      "metadata": {
        "id": "uylVtATBPr3w"
      }
    },
    {
      "cell_type": "code",
      "source": [
        "print(\"Check whether we can find NaN values :\",df.isnull().values.any())"
      ],
      "metadata": {
        "colab": {
          "base_uri": "https://localhost:8080/"
        },
        "id": "IyVstbAvNwGz",
        "outputId": "2bc2e0d1-99b1-410b-d193-3ed8a188b216"
      },
      "execution_count": null,
      "outputs": [
        {
          "output_type": "stream",
          "name": "stdout",
          "text": [
            "Check whether we can find NaN values : False\n"
          ]
        }
      ]
    },
    {
      "cell_type": "code",
      "source": [
        "labels = df[\"eyeDetection\"]\n",
        "labels = pd.to_numeric(labels)\n",
        "vals = labels.value_counts()"
      ],
      "metadata": {
        "id": "VAEmKgqhyyLi"
      },
      "execution_count": null,
      "outputs": []
    },
    {
      "cell_type": "code",
      "source": [
        "print(\"Percentage of class 0 : {:.2f} %\".format((vals[0]/vals.sum())*100))\n",
        "print(\"Percentage of class 1 : {:.2f} %\".format((vals[1]/vals.sum())*100))"
      ],
      "metadata": {
        "colab": {
          "base_uri": "https://localhost:8080/"
        },
        "id": "z9onUPu3i0zV",
        "outputId": "c073280e-704a-4e70-bd45-846e58e3636f"
      },
      "execution_count": null,
      "outputs": [
        {
          "output_type": "stream",
          "name": "stdout",
          "text": [
            "Percentage of class 0 : 55.12 %\n",
            "Percentage of class 1 : 44.88 %\n"
          ]
        }
      ]
    },
    {
      "cell_type": "code",
      "source": [
        "import warnings\n",
        "from sklearn.exceptions import ConvergenceWarning\n",
        "with warnings.catch_warnings():\n",
        "  warnings.filterwarnings(\"ignore\", category=FutureWarning)\n",
        "  sns.countplot(labels)"
      ],
      "metadata": {
        "id": "JdDQ2N6AWLy6",
        "outputId": "cc5df8c6-7211-4793-f3c4-0d21a1ec96b8",
        "colab": {
          "base_uri": "https://localhost:8080/",
          "height": 279
        }
      },
      "execution_count": null,
      "outputs": [
        {
          "output_type": "display_data",
          "data": {
            "text/plain": [
              "<Figure size 432x288 with 1 Axes>"
            ],
            "image/png": "[encoded data removed]"
          },
          "metadata": {
            "needs_background": "light"
          }
        }
      ]
    },
    {
      "cell_type": "markdown",
      "source": [
        "## **Προετοιμασία**"
      ],
      "metadata": {
        "id": "BXq6Pg1emmFr"
      }
    },
    {
      "cell_type": "markdown",
      "source": [
        "<ul>\n",
        "<li>\n",
        "Εφόσον το σύνολο δεδομένων που επεξεργαζόμαστε διαθέτει \n",
        "μονάχα αριθμητικά (numerical) δεδομένα, και μάλιστα είναι πλήρες (χωρίς απουσιάζουσες τιμές), το μόνο που μας απομένει να κάνουμε, πρωτού ξεκινήσουμε την διαδικασία εκπαίδευσης και αποτίμησης των αλγορίθμων μάθησης, είναι ο διαχωρισμός τους σε 2 υποσύνολα: \n",
        " \n",
        "\n",
        "*   Τraining (70%)\n",
        "*   Τesting (30%)\n",
        "</li>\n",
        "</ul>"
      ],
      "metadata": {
        "id": "ELP4wrqFMVQS"
      }
    },
    {
      "cell_type": "code",
      "source": [
        "import numpy as np\n",
        "from sklearn.model_selection import train_test_split,cross_val_score, KFold\n",
        "y = labels\n",
        "X = df.drop(columns=\"eyeDetection\")\n",
        "X_train, X_test, y_train, y_test = train_test_split(X, y, test_size=0.3,shuffle = True, random_state=42)\n",
        "print('Shape of X_train: {0}, y_train: {1}'.format(X_train.shape,y_train.shape))\n",
        "print('Shape of X_test: {0}, y_test: {1}'.format(X_test.shape,y_test.shape))"
      ],
      "metadata": {
        "id": "TZa4yRzBmzzZ",
        "colab": {
          "base_uri": "https://localhost:8080/"
        },
        "outputId": "722bc19c-3b17-4acb-eb2e-259dc517a0f3"
      },
      "execution_count": null,
      "outputs": [
        {
          "output_type": "stream",
          "name": "stdout",
          "text": [
            "Shape of X_train: (10486, 14), y_train: (10486,)\n",
            "Shape of X_test: (4494, 14), y_test: (4494,)\n"
          ]
        }
      ]
    },
    {
      "cell_type": "markdown",
      "source": [
        "## **Ταξινομητές**"
      ],
      "metadata": {
        "id": "Emef_GvANtbw"
      }
    },
    {
      "cell_type": "code",
      "source": [
        "from sklearn.metrics import accuracy_score,f1_score\n",
        "import time \n",
        "\n",
        "def train_evaluate(model,xtrain,ytrain,xtest,ytest,kfold=None):\n",
        "  \"\"\"\n",
        "    Function that fits the model to the training data and then\n",
        "    calculates the following:\n",
        "      - Accuracy of the model\n",
        "      - F1 metric\n",
        "      - Cross Score Accuracy and F1 mean values\n",
        "    It also returns the time needed to fit and test the model\n",
        "  \"\"\"\n",
        "  model_st = time.time()\n",
        "  model.fit(xtrain,ytrain)\n",
        "  model_fin = time.time()\n",
        "  fit_time = model_fin - model_st\n",
        "  print('Training Time: {:.6f} sec'.format(fit_time))\n",
        "\n",
        "  test_st = time.time()\n",
        "  predictions = model.predict(xtest)\n",
        "  test_fin = time.time()\n",
        "  test_time = test_fin - test_st\n",
        "  print('Testing Time: {:.6f} sec'.format(test_time))\n",
        "\n",
        "  f1 = 'macro'\n",
        "\n",
        "  values=[]\n",
        "  values.append(accuracy_score(ytest,predictions))\n",
        "  values.append(f1_score(ytest,predictions,average=f1))\n",
        "  print(\"Testing Accuracy: {0:.4f} % \\nTesting F1 score: {1:.4f} %\".format(values[0],values[1]))\n",
        "\n",
        "  if kfold is not  None:\n",
        "    kf = KFold(n_splits=kfold,random_state=42,shuffle=True)\n",
        "    values.append(cross_val_score(model,xtrain,ytrain,cv=kf,scoring=\"accuracy\").mean())\n",
        "    values.append(cross_val_score(model,xtrain,ytrain,cv=kf,scoring=\"f1_macro\").mean())\n",
        "    print(\"Cross Validation Accuracy: {0:.4f} % \\nCross Validation F1 score: {1:.4f} %\".format(values[2],\n",
        "                                                                          values[3]))\n",
        "  values.append(fit_time)\n",
        "  values.append(test_time)\n",
        "\n",
        "  return values"
      ],
      "metadata": {
        "id": "9R2FuNaaBUvI"
      },
      "execution_count": null,
      "outputs": []
    },
    {
      "cell_type": "markdown",
      "source": [
        "### **Dummy** "
      ],
      "metadata": {
        "id": "4jip2_NBoY2x"
      }
    },
    {
      "cell_type": "code",
      "source": [
        "from sklearn.dummy import DummyClassifier\n",
        "dummy = DummyClassifier()\n",
        "print(\"Results of Default/Prior Dummy Classifier\")\n",
        "dummy_eval = train_evaluate(dummy,X_train,y_train,X_test,y_test,kfold=10)"
      ],
      "metadata": {
        "id": "qvKZ3XIyoajf",
        "colab": {
          "base_uri": "https://localhost:8080/"
        },
        "outputId": "e67afb8a-9806-4e28-b7b3-71a4911edf4c"
      },
      "execution_count": null,
      "outputs": [
        {
          "output_type": "stream",
          "name": "stdout",
          "text": [
            "Results of Default/Prior Dummy Classifier\n",
            "Training Time: 0.000797 sec\n",
            "Testing Time: 0.000181 sec\n",
            "Testing Accuracy: 0.5309 % \n",
            "Testing F1 score: 0.3468 %\n",
            "Cross Validation Accuracy: 0.5599 % \n",
            "Cross Validation F1 score: 0.3589 %\n"
          ]
        }
      ]
    },
    {
      "cell_type": "markdown",
      "source": [
        "### **Gaussian Naive Bayes**"
      ],
      "metadata": {
        "id": "e77vb910qIw0"
      }
    },
    {
      "cell_type": "code",
      "source": [
        "from sklearn.naive_bayes import GaussianNB\n",
        "gnb = GaussianNB()\n",
        "print(\"Results of Gaussian Naive Bayes\")\n",
        "gnb_eval = train_evaluate(gnb,X_train,y_train,X_test,y_test,kfold=10)"
      ],
      "metadata": {
        "id": "sVSBkIzRqkOd",
        "colab": {
          "base_uri": "https://localhost:8080/"
        },
        "outputId": "7d5bc811-c1f3-483b-fd58-e4b4c1bdc2ef"
      },
      "execution_count": null,
      "outputs": [
        {
          "output_type": "stream",
          "name": "stdout",
          "text": [
            "Results of Gaussian Naive Bayes\n",
            "Training Time: 0.006678 sec\n",
            "Testing Time: 0.002777 sec\n",
            "Testing Accuracy: 0.4682 % \n",
            "Testing F1 score: 0.3527 %\n",
            "Cross Validation Accuracy: 0.4558 % \n",
            "Cross Validation F1 score: 0.3482 %\n"
          ]
        }
      ]
    },
    {
      "cell_type": "markdown",
      "source": [
        "### **K - Nearest Neighbors**"
      ],
      "metadata": {
        "id": "mZaLziQvLBuz"
      }
    },
    {
      "cell_type": "code",
      "source": [
        "from sklearn.neighbors import KNeighborsClassifier\n",
        "print(\"Results for Nearest Neighbor Classifier with default values\")\n",
        "knn = KNeighborsClassifier()\n",
        "knn_eval = train_evaluate(knn,X_train,y_train,X_test,y_test,kfold=10)"
      ],
      "metadata": {
        "id": "ag3rJjvRLHCa",
        "colab": {
          "base_uri": "https://localhost:8080/"
        },
        "outputId": "4f984df4-d36b-43fb-cfdc-1f28ddea511d"
      },
      "execution_count": null,
      "outputs": [
        {
          "output_type": "stream",
          "name": "stdout",
          "text": [
            "Results for Nearest Neighbor Classifier with default values\n",
            "Training Time: 0.020882 sec\n",
            "Testing Time: 0.351516 sec\n",
            "Testing Accuracy: 0.9646 % \n",
            "Testing F1 score: 0.9645 %\n",
            "Cross Validation Accuracy: 0.9569 % \n",
            "Cross Validation F1 score: 0.9562 %\n"
          ]
        }
      ]
    },
    {
      "cell_type": "markdown",
      "source": [
        "### **Logistic Regression**"
      ],
      "metadata": {
        "id": "uQX-60rWLMXa"
      }
    },
    {
      "cell_type": "code",
      "source": [
        "from sklearn.linear_model import LogisticRegression\n",
        "logisticRegr = LogisticRegression(max_iter = 1000,random_state=42)\n",
        "print(\"Results of Logistic Regression Classifier\")\n",
        "logistic_eval = train_evaluate(logisticRegr,X_train,y_train,X_test,y_test,kfold=10)"
      ],
      "metadata": {
        "id": "hGyM79lQLS0x",
        "colab": {
          "base_uri": "https://localhost:8080/"
        },
        "outputId": "c1d98166-75e8-45c5-9641-04cf0615019e"
      },
      "execution_count": null,
      "outputs": [
        {
          "output_type": "stream",
          "name": "stdout",
          "text": [
            "Results of Logistic Regression Classifier\n",
            "Training Time: 0.692821 sec\n",
            "Testing Time: 0.001846 sec\n",
            "Testing Accuracy: 0.6306 % \n",
            "Testing F1 score: 0.6137 %\n",
            "Cross Validation Accuracy: 0.6464 % \n",
            "Cross Validation F1 score: 0.6232 %\n"
          ]
        }
      ]
    },
    {
      "cell_type": "markdown",
      "source": [
        "### *Σχόλια*"
      ],
      "metadata": {
        "id": "BUPFgVbaGjKn"
      }
    },
    {
      "cell_type": "markdown",
      "source": [
        "* Παρατηρούμε πως στον ταξινομητή Dummy, το μοντέλο ακολουθώντας την prior στρατηγική (επιλέγει πάντα την κλάση η οποία εμφανίζεται πιό συχνά στο σύνολο y_train), επιτυγχάνει πολύ χαμηλό f1 score (0.35), ενώ η ακρίβεια δεν είναι ιδιαίτερα μεγάλη και βρίσκεται κοντά στο 0.5 όπως είναι αναμενόμενο απ' τον συγκεκριμένο ταξινομητή.\n",
        "\n",
        "* Ο ταξινομητής Gaussian Naive Bayes παρατηρούμε πως επιστρέφει f1 score ίσο με 0.55 και ακρίβεια ίση με 0.46. Αυτό είναι λογικό αφού ο συγκεκριμένος ταξινομητής δεν δίνει σημασία στην εξάρτηση μεταξύ των features, τα οποία θεωρεί πως είναι στατιστικά ανεξάρτητα μεταξύ τους, κάτι το οποίο προφανώς και δεν ισχύει στην πραγματικότητα.\n",
        "\n",
        "* Ο ταξινομητής kNN (με default παράμετρο k = 5 γειτόνες) επιστρέφει τις μεγαλύτερες τιμές f1 score και accuracy σ' αυτό το μέρος της εργασίας. Ειδικότερα το f1 score που επιστρέφει είναι ίσο με 0.95 ενώ η ακρίβεια του είναι 0.96. Αν και δεν έχει γίνει κάποια βελτιστοποιήση ακόμα, η πολύ καλή απόδοση που παρουσιάζει ο συγκεκριμένος αλγόριθμος μπορεί να οφείλεται στην κοντινή \"απόσταση\" (στον διανυσματικό χώρο) που έχουν μεταξύ τους πρότυπα της ίδιας κλάσης.\n",
        "\n",
        "* Ο ταξινομητής logistic regression παρατηρούμε πως επιστρέφει καλύτερες τιμές από τον Gaussian Naive Bayes, όμως έχει χειρότερη απόδοση συγκριτικά με τον Nearest Neighbors. Αυτό θα μπορούσε να είναι μια συνέπεια του ότι τα δεδομένα μας σε μεγάλο βαθμό, δεν είναι γραμμικά διαχωρίσιμα\n",
        "\n",
        "Τα αποτελέσματα των παραπάνω ταξινομητών, με τις default τιμές τους, μπορούμε να τα δούμε και στον παρακάτω πίνακα (και στο bar plot που ακολουθεί)"
      ],
      "metadata": {
        "id": "y6jV0g8kGmjJ"
      }
    },
    {
      "cell_type": "code",
      "source": [
        "classifier = ['Dummy','Gaussian Naive Bayes','KNN','Logistic Regression']\n",
        "accs = [100*dummy_eval[0],100*gnb_eval[0],100*knn_eval[0],100*logistic_eval[0]]\n",
        "f1_scores = [100*dummy_eval[1],100*gnb_eval[1],100*knn_eval[1],100*logistic_eval[1]]\n",
        "cross_acc = [100*dummy_eval[2],100*gnb_eval[2],100*knn_eval[2],100*logistic_eval[2]]\n",
        "cross_f1= [100*dummy_eval[3],100*gnb_eval[3],100*knn_eval[3],100*logistic_eval[3]]\n",
        "d = list(zip(classifier,accs,f1_scores,cross_acc,cross_f1))\n",
        "\n",
        "results = pd.DataFrame(d,columns = ['Classifier','Accuracy (%)','F1 Macro (%)',\n",
        "                            'Cross Validation Accuracy (%)','Cross Validation F1 (%)'],).set_index('Classifier')\n",
        "results = results.style.format(\"{:.3f}\")\n",
        "results = results.set_properties(**{'width':'100px','text-align': 'center'})\n",
        "results"
      ],
      "metadata": {
        "colab": {
          "base_uri": "https://localhost:8080/",
          "height": 241
        },
        "id": "SMu10cOxZzkQ",
        "outputId": "fdd16ca0-9313-45d6-8c20-117f138f06a8"
      },
      "execution_count": null,
      "outputs": [
        {
          "output_type": "execute_result",
          "data": {
            "text/plain": [
              "<pandas.io.formats.style.Styler at 0x7f44631fcb10>"
            ],
            "text/html": [
              "<style type=\"text/css\">\n",
              "#T_06bd5_row0_col0, #T_06bd5_row0_col1, #T_06bd5_row0_col2, #T_06bd5_row0_col3, #T_06bd5_row1_col0, #T_06bd5_row1_col1, #T_06bd5_row1_col2, #T_06bd5_row1_col3, #T_06bd5_row2_col0, #T_06bd5_row2_col1, #T_06bd5_row2_col2, #T_06bd5_row2_col3, #T_06bd5_row3_col0, #T_06bd5_row3_col1, #T_06bd5_row3_col2, #T_06bd5_row3_col3 {\n",
              "  width: 100px;\n",
              "  text-align: center;\n",
              "}\n",
              "</style>\n",
              "<table id=\"T_06bd5_\" class=\"dataframe\">\n",
              "  <thead>\n",
              "    <tr>\n",
              "      <th class=\"blank level0\" >&nbsp;</th>\n",
              "      <th class=\"col_heading level0 col0\" >Accuracy (%)</th>\n",
              "      <th class=\"col_heading level0 col1\" >F1 Macro (%)</th>\n",
              "      <th class=\"col_heading level0 col2\" >Cross Validation Accuracy (%)</th>\n",
              "      <th class=\"col_heading level0 col3\" >Cross Validation F1 (%)</th>\n",
              "    </tr>\n",
              "    <tr>\n",
              "      <th class=\"index_name level0\" >Classifier</th>\n",
              "      <th class=\"blank col0\" >&nbsp;</th>\n",
              "      <th class=\"blank col1\" >&nbsp;</th>\n",
              "      <th class=\"blank col2\" >&nbsp;</th>\n",
              "      <th class=\"blank col3\" >&nbsp;</th>\n",
              "    </tr>\n",
              "  </thead>\n",
              "  <tbody>\n",
              "    <tr>\n",
              "      <th id=\"T_06bd5_level0_row0\" class=\"row_heading level0 row0\" >Dummy</th>\n",
              "      <td id=\"T_06bd5_row0_col0\" class=\"data row0 col0\" >53.093</td>\n",
              "      <td id=\"T_06bd5_row0_col1\" class=\"data row0 col1\" >34.680</td>\n",
              "      <td id=\"T_06bd5_row0_col2\" class=\"data row0 col2\" >55.989</td>\n",
              "      <td id=\"T_06bd5_row0_col3\" class=\"data row0 col3\" >35.888</td>\n",
              "    </tr>\n",
              "    <tr>\n",
              "      <th id=\"T_06bd5_level0_row1\" class=\"row_heading level0 row1\" >Gaussian Naive Bayes</th>\n",
              "      <td id=\"T_06bd5_row1_col0\" class=\"data row1 col0\" >46.818</td>\n",
              "      <td id=\"T_06bd5_row1_col1\" class=\"data row1 col1\" >35.272</td>\n",
              "      <td id=\"T_06bd5_row1_col2\" class=\"data row1 col2\" >45.584</td>\n",
              "      <td id=\"T_06bd5_row1_col3\" class=\"data row1 col3\" >34.822</td>\n",
              "    </tr>\n",
              "    <tr>\n",
              "      <th id=\"T_06bd5_level0_row2\" class=\"row_heading level0 row2\" >KNN</th>\n",
              "      <td id=\"T_06bd5_row2_col0\" class=\"data row2 col0\" >96.462</td>\n",
              "      <td id=\"T_06bd5_row2_col1\" class=\"data row2 col1\" >96.446</td>\n",
              "      <td id=\"T_06bd5_row2_col2\" class=\"data row2 col2\" >95.689</td>\n",
              "      <td id=\"T_06bd5_row2_col3\" class=\"data row2 col3\" >95.616</td>\n",
              "    </tr>\n",
              "    <tr>\n",
              "      <th id=\"T_06bd5_level0_row3\" class=\"row_heading level0 row3\" >Logistic Regression</th>\n",
              "      <td id=\"T_06bd5_row3_col0\" class=\"data row3 col0\" >63.062</td>\n",
              "      <td id=\"T_06bd5_row3_col1\" class=\"data row3 col1\" >61.372</td>\n",
              "      <td id=\"T_06bd5_row3_col2\" class=\"data row3 col2\" >64.639</td>\n",
              "      <td id=\"T_06bd5_row3_col3\" class=\"data row3 col3\" >62.324</td>\n",
              "    </tr>\n",
              "  </tbody>\n",
              "</table>\n"
            ]
          },
          "metadata": {},
          "execution_count": 11
        }
      ]
    },
    {
      "cell_type": "code",
      "source": [
        "import matplotlib.pyplot as plt\n",
        "\n",
        "data2 = pd.DataFrame()\n",
        "data2['classifier'] = classifier\n",
        "data2['acc'] = accs\n",
        "data2['f1_scores'] = f1_scores\n",
        "data2['cross acc'] = cross_acc\n",
        "data2['cross f1'] = cross_f1\n",
        "\n",
        "data2 = pd.melt(data2, id_vars =['classifier'], value_vars =['acc', 'f1_scores','cross acc','cross f1'])\n",
        "plt.figure(figsize=(10,10))\n",
        "sns.barplot(x='classifier', y='value', hue='variable', data=data2)\n",
        "plt.show()"
      ],
      "metadata": {
        "colab": {
          "base_uri": "https://localhost:8080/",
          "height": 606
        },
        "id": "5A6kUN3bag4t",
        "outputId": "5f8fdedb-0222-4367-fdeb-7ebaca5df7a4"
      },
      "execution_count": null,
      "outputs": [
        {
          "output_type": "display_data",
          "data": {
            "text/plain": [
              "<Figure size 720x720 with 1 Axes>"
            ],
            "image/png": "[encoded data removed]"
          },
          "metadata": {
            "needs_background": "light"
          }
        }
      ]
    },
    {
      "cell_type": "markdown",
      "source": [
        "## **Βελτιστοποιήση**"
      ],
      "metadata": {
        "id": "M-UwV-GbrOxB"
      }
    },
    {
      "cell_type": "code",
      "source": [
        "from tqdm import tqdm\n",
        "from imblearn.pipeline import Pipeline\n",
        "from sklearn.feature_selection import VarianceThreshold\n",
        "from sklearn.preprocessing import StandardScaler,Normalizer,MinMaxScaler,QuantileTransformer\n",
        "from imblearn.over_sampling import RandomOverSampler\n",
        "from sklearn.decomposition import PCA,TruncatedSVD\n",
        "from sklearn.model_selection import GridSearchCV"
      ],
      "metadata": {
        "id": "T-M0n8LhrXGo"
      },
      "execution_count": null,
      "outputs": []
    },
    {
      "cell_type": "code",
      "source": [
        "train_variance = X_train.var(axis=0)\n",
        "print(train_variance)\n",
        "vthreshold = [50,100, 200, 300] #προσαρμόζουμε τις τιμές μας στο variance που παρατηρήσαμε\n",
        "n_components = [3,6,8,10,12]"
      ],
      "metadata": {
        "colab": {
          "base_uri": "https://localhost:8080/"
        },
        "id": "R7f_8bh1W35e",
        "outputId": "e916048e-a30e-4bb1-bc41-5b2e0e9b8a27"
      },
      "execution_count": null,
      "outputs": [
        {
          "output_type": "stream",
          "name": "stdout",
          "text": [
            "AF3    8.869583e+06\n",
            "F7     1.265540e+03\n",
            "F3     1.424348e+03\n",
            "FC5    3.887217e+07\n",
            "T7     8.470848e+02\n",
            "P7     1.539107e+03\n",
            "O1     3.024005e+07\n",
            "O2     3.708536e+02\n",
            "P8     6.519405e+06\n",
            "T8     9.659094e+02\n",
            "FC6    1.622770e+03\n",
            "F4     1.458111e+03\n",
            "F8     2.081724e+06\n",
            "AF4    1.299520e+06\n",
            "dtype: float64\n"
          ]
        }
      ]
    },
    {
      "cell_type": "markdown",
      "source": [
        "### **Dummy**"
      ],
      "metadata": {
        "id": "Qmj07eeS1XkI"
      }
    },
    {
      "cell_type": "markdown",
      "source": [
        "Η απόδοση του dummy ταξινομητή, εξαρτάται μονάχα από το πλήθος των δεδομένων της κάθε κλάσης, οπότε οι περισσότερες τεχνικές προεπεξεργασίας δεδομένων δεν θα προκαλέσουν κάποια σημαντική διαφορά στην συμπεριφορά του. Για τον λόγο αυτό, η μόνη υπερ-παράμετρος που μας ενδιαφέρει να αναζητήσουμε, είναι η στρατηγική που θα ακολουθήσει ο ταξινομητής, για να κάνει πρόβλεψη των δειγμάτων. "
      ],
      "metadata": {
        "id": "TDeyJ7OCKDTN"
      }
    },
    {
      "cell_type": "code",
      "source": [
        "clf = DummyClassifier()\n",
        "strat = ['uniform','most_frequent','stratified','constant']\n",
        "con = [0,1]\n",
        "pipe_dc = Pipeline(steps=[('dummy',clf)])\n",
        "print(\"Results of Dummy Classifier - Accuracy Optimization\")\n",
        "\n",
        "dummy_estimator = GridSearchCV(pipe_dc, dict(dummy__strategy=strat,dummy__constant=con),\n",
        "                         cv=10, scoring='accuracy', n_jobs=-1)\n",
        "dummy_acc = train_evaluate(dummy_estimator,X_train,y_train,X_test,y_test)"
      ],
      "metadata": {
        "colab": {
          "base_uri": "https://localhost:8080/"
        },
        "id": "vWSGZq3x1msq",
        "outputId": "ef151492-04ba-4ea1-864f-ef70730fcb3a"
      },
      "execution_count": null,
      "outputs": [
        {
          "output_type": "stream",
          "name": "stdout",
          "text": [
            "Results of Dummy Classifier - Accuracy Optimization\n",
            "Training Time: 2.103058 sec\n",
            "Testing Time: 0.000308 sec\n",
            "Testing Accuracy: 0.5309 % \n",
            "Testing F1 score: 0.3468 %\n"
          ]
        }
      ]
    },
    {
      "cell_type": "code",
      "source": [
        "print(dummy_estimator.best_estimator_)\n",
        "print('Parameters for best dummy (accuracy optimization) are:', dummy_estimator.best_params_)\n",
        "time_best_dummy_fit = dummy_estimator.refit_time_\n",
        "time_best_dummy_st= time.time()\n",
        "dummy_estimator.predict(X_test)\n",
        "time_best_dummy_fin = time.time()\n",
        "time_best_dummy_test = time_best_dummy_fin - time_best_dummy_st\n",
        "print(\"Time to refit best model: {:.6f} sec\".format(time_best_dummy_fit))\n",
        "print(\"Time to test best model: {:.6f} sec\".format(time_best_dummy_test))\n",
        "print('Mean cross-validated accuracy score of the best estimator: {:.4f} %'.format(dummy_estimator.best_score_))"
      ],
      "metadata": {
        "colab": {
          "base_uri": "https://localhost:8080/"
        },
        "id": "98E6AUqs74vP",
        "outputId": "0148f00f-26e2-4c09-f8c0-efc6cf110a4d"
      },
      "execution_count": null,
      "outputs": [
        {
          "output_type": "stream",
          "name": "stdout",
          "text": [
            "Pipeline(steps=[('dummy',\n",
            "                 DummyClassifier(constant=0, strategy='most_frequent'))])\n",
            "Parameters for best dummy (accuracy optimization) are: {'dummy__constant': 0, 'dummy__strategy': 'most_frequent'}\n",
            "Time to refit best model: 0.001251 sec\n",
            "Time to test best model: 0.000541 sec\n",
            "Mean cross-validated accuracy score of the best estimator: 0.5599 %\n"
          ]
        }
      ]
    },
    {
      "cell_type": "code",
      "source": [
        "clf = DummyClassifier()\n",
        "strat = ['uniform','most_frequent','stratified','constant']\n",
        "con = [0,1]\n",
        "pipe_dc = Pipeline(steps=[('dummy',clf)])\n",
        "print(\"Results of Dummy Classifier - F1 Score Optimization\")\n",
        "\n",
        "dummy_estimator1 = GridSearchCV(pipe_dc, dict(dummy__strategy=strat,dummy__constant=con),\n",
        "                         cv=10, scoring='f1', n_jobs=-1)\n",
        "dummy_f1 = train_evaluate(dummy_estimator1,X_train,y_train,X_test,y_test)"
      ],
      "metadata": {
        "colab": {
          "base_uri": "https://localhost:8080/"
        },
        "id": "LgbeF0TZBspw",
        "outputId": "253b59ee-2dbd-4985-9527-f852a74dc185"
      },
      "execution_count": null,
      "outputs": [
        {
          "output_type": "stream",
          "name": "stdout",
          "text": [
            "Results of Dummy Classifier - F1 Score Optimization\n",
            "Training Time: 0.586648 sec\n",
            "Testing Time: 0.000245 sec\n",
            "Testing Accuracy: 0.4691 % \n",
            "Testing F1 score: 0.3193 %\n"
          ]
        }
      ]
    },
    {
      "cell_type": "code",
      "source": [
        "print(dummy_estimator1.best_estimator_)\n",
        "print('Parameters for best dummy (f1 optimization) are:', dummy_estimator1.best_params_)\n",
        "time_best_dummy1_fit = dummy_estimator1.refit_time_\n",
        "time_best_dummy1_st= time.time()\n",
        "dummy_estimator1.predict(X_test)\n",
        "time_best_dummy1_fin = time.time()\n",
        "time_best_dummy1_test = time_best_dummy1_fin - time_best_dummy1_st\n",
        "print(\"Time to refit best model: {:.6f} sec\".format(time_best_dummy1_fit))\n",
        "print(\"Time to test best model: {:.6f} sec\".format(time_best_dummy1_test))\n",
        "print('Mean cross-validated f1 score of the best estimator: {:.4f} %'.format(dummy_estimator1.best_score_))"
      ],
      "metadata": {
        "colab": {
          "base_uri": "https://localhost:8080/"
        },
        "id": "LAKHUKWNBvNJ",
        "outputId": "51d0ce09-251d-42f3-b52b-a00238273e9f"
      },
      "execution_count": null,
      "outputs": [
        {
          "output_type": "stream",
          "name": "stdout",
          "text": [
            "Pipeline(steps=[('dummy', DummyClassifier(constant=1, strategy='constant'))])\n",
            "Parameters for best dummy (f1 optimization) are: {'dummy__constant': 1, 'dummy__strategy': 'constant'}\n",
            "Time to refit best model: 0.000852 sec\n",
            "Time to test best model: 0.000369 sec\n",
            "Mean cross-validated f1 score of the best estimator: 0.6112 %\n"
          ]
        }
      ]
    },
    {
      "cell_type": "code",
      "source": [
        "time_dummy_fit = (time_best_dummy_fit+time_best_dummy1_fit)/2\n",
        "time_dummy_test = (time_best_dummy_test+time_best_dummy1_test)/2 "
      ],
      "metadata": {
        "id": "7zkObmQAVRHY"
      },
      "execution_count": null,
      "outputs": []
    },
    {
      "cell_type": "markdown",
      "source": [
        "### **Gaussian Naive Bayes**"
      ],
      "metadata": {
        "id": "LRoBYJhu1otx"
      }
    },
    {
      "cell_type": "markdown",
      "source": [
        "Για τον Gaussian Naive Bayes, έπειτα από αρκετές δοκιμές σε συνδυασμούς των βημάτων προεπεξεργασίας, καταλήξαμε στο ότι:\n",
        "\n",
        "*   Αρχικά, εφαρμόζουμε PCA, ώστε να μειώσουμε τις διαστάσεις των δεδομένων μας (ο αλγόριθμος εντοπίζει τις κατευθύνσεις στις οποίες μεγιστοποιείται η διακύμανση των 14 features)\n",
        "\n",
        "*   Έπειτα, με την χρήση της συνάρτησης VarianceThreshold, θα κρατήσουμε μονάχα τα χαρακτηριστικά, των οποίων η διακύμανση (variance) ξεπερνά μία συγκεκριμένη τιμή.\n",
        "\n",
        "*   Τέλος, θα κανονικοποιήσουμε τα δεδομένα, ώστε να περιορίσουμε το εύρος των τιμών τους. Μέτα από δοκιμές, επιλέψαμε τον Normalizer έναντι του StandardScaler και της MinMaxScaler συνάρτησης της Sklearn.\n",
        "\n",
        "\n",
        "Τις a-priori πιθανότητες των 2 κλάσεων δε τις θέτουμε εμείς, αλλά θα μεταβάλλονται δυναμικά, ανάλογα με το πλήθος των δειγμάτων σε κάθε μία από αυτές στο training set."
      ],
      "metadata": {
        "id": "pBQNck_oPBiV"
      }
    },
    {
      "cell_type": "code",
      "source": [
        "clf = GaussianNB()\n",
        "selector = VarianceThreshold()\n",
        "scaler =  Normalizer()\n",
        "pca = PCA()\n",
        "pipe_gnb1 = Pipeline(steps=[('pca',pca),('selector',selector),('scaler',scaler),('gaussian',clf)])\n",
        "print(\"Results of Naive Bayes Classifier\")\n",
        "gnb_estimator = GridSearchCV(pipe_gnb1, dict(selector__threshold=vthreshold, \n",
        "                                    pca__n_components=n_components), cv=10, scoring='accuracy', n_jobs=-1)\n",
        "gnb_acc = train_evaluate(gnb_estimator,X_train,y_train,X_test,y_test)"
      ],
      "metadata": {
        "id": "38KwviuY1snU",
        "colab": {
          "base_uri": "https://localhost:8080/"
        },
        "outputId": "d26fdd74-5757-4294-b7df-58da633a9e4b"
      },
      "execution_count": null,
      "outputs": [
        {
          "output_type": "stream",
          "name": "stdout",
          "text": [
            "Results of Naive Bayes Classifier\n",
            "Training Time: 4.748671 sec\n",
            "Testing Time: 0.005061 sec\n",
            "Testing Accuracy: 0.6041 % \n",
            "Testing F1 score: 0.5847 %\n"
          ]
        }
      ]
    },
    {
      "cell_type": "code",
      "source": [
        "print(gnb_estimator.best_estimator_)\n",
        "print('Parameters for best GNB (accuracy optimization) are:', gnb_estimator.best_params_)\n",
        "time_best_gnb_fit = gnb_estimator.refit_time_\n",
        "time_best_gnb_st= time.time()\n",
        "gnb_estimator.predict(X_test)\n",
        "time_best_gnb_fin = time.time()\n",
        "time_best_gnb_test = time_best_gnb_fin - time_best_gnb_st\n",
        "print(\"Time to refit best model: {:.6f} sec\".format(time_best_gnb_fit))\n",
        "print(\"Time to test best model: {:.6f} sec\".format(time_best_gnb_test))\n",
        "print('Mean cross-validated accuracy score of the best estimator: {:.4f} %'.format(gnb_estimator.best_score_))"
      ],
      "metadata": {
        "colab": {
          "base_uri": "https://localhost:8080/"
        },
        "id": "NQeIPmGCi_Yp",
        "outputId": "02c2d827-2d56-4218-909f-026629c27d7e"
      },
      "execution_count": null,
      "outputs": [
        {
          "output_type": "stream",
          "name": "stdout",
          "text": [
            "Pipeline(steps=[('pca', PCA(n_components=8)),\n",
            "                ('selector', VarianceThreshold(threshold=100)),\n",
            "                ('scaler', Normalizer()), ('gaussian', GaussianNB())])\n",
            "Parameters for best GNB (accuracy optimization) are: {'pca__n_components': 8, 'selector__threshold': 100}\n",
            "Time to refit best model: 0.039650 sec\n",
            "Time to test best model: 0.005040 sec\n",
            "Mean cross-validated accuracy score of the best estimator: 0.6340 %\n"
          ]
        }
      ]
    },
    {
      "cell_type": "code",
      "source": [
        "clf = GaussianNB()\n",
        "selector = VarianceThreshold()\n",
        "scaler =  Normalizer()\n",
        "pca = PCA()\n",
        "pipe_gnb2 = Pipeline(steps=[('pca',pca),('selector',selector),('scaler',scaler),('gaussian',clf)])\n",
        "print(\"Results of Naive Bayes Classifier\")\n",
        "gnb_estimator1 = GridSearchCV(pipe_gnb2, dict(selector__threshold=vthreshold, \n",
        "                                    pca__n_components=n_components), cv=10, scoring='f1', n_jobs=-1)\n",
        "gnb_f1 = train_evaluate(gnb_estimator1,X_train,y_train,X_test,y_test)"
      ],
      "metadata": {
        "colab": {
          "base_uri": "https://localhost:8080/"
        },
        "id": "tTh0NmeHjzOx",
        "outputId": "f7955fc9-0b40-4c3b-9d86-9d6fbf72246a"
      },
      "execution_count": null,
      "outputs": [
        {
          "output_type": "stream",
          "name": "stdout",
          "text": [
            "Results of Naive Bayes Classifier\n",
            "Training Time: 4.880922 sec\n",
            "Testing Time: 0.004557 sec\n",
            "Testing Accuracy: 0.6041 % \n",
            "Testing F1 score: 0.5847 %\n"
          ]
        }
      ]
    },
    {
      "cell_type": "code",
      "source": [
        "print(gnb_estimator1.best_estimator_)\n",
        "print('Parameters for best GNB (f1 optimization) are:', gnb_estimator1.best_params_)\n",
        "time_best_gnb1_fit = gnb_estimator1.refit_time_\n",
        "time_best_gnb1_st= time.time()\n",
        "gnb_estimator1.predict(X_test)\n",
        "time_best_gnb1_fin = time.time()\n",
        "time_best_gnb1_test = time_best_gnb1_fin - time_best_gnb1_st\n",
        "print(\"Time to refit best model: {:.6f} sec\".format(time_best_gnb1_fit))\n",
        "print(\"Time to test best model: {:.6f} sec\".format(time_best_gnb1_test))\n",
        "print('Mean cross-validated accuracy score of the best estimator: {:.4f} %'.format(gnb_estimator1.best_score_))"
      ],
      "metadata": {
        "colab": {
          "base_uri": "https://localhost:8080/"
        },
        "id": "rvLup7HE5Cyy",
        "outputId": "aa5ca9fa-736f-4f92-8679-00d662582de0"
      },
      "execution_count": null,
      "outputs": [
        {
          "output_type": "stream",
          "name": "stdout",
          "text": [
            "Pipeline(steps=[('pca', PCA(n_components=8)),\n",
            "                ('selector', VarianceThreshold(threshold=100)),\n",
            "                ('scaler', Normalizer()), ('gaussian', GaussianNB())])\n",
            "Parameters for best GNB (f1 optimization) are: {'pca__n_components': 8, 'selector__threshold': 100}\n",
            "Time to refit best model: 0.035318 sec\n",
            "Time to test best model: 0.005498 sec\n",
            "Mean cross-validated accuracy score of the best estimator: 0.5150 %\n"
          ]
        }
      ]
    },
    {
      "cell_type": "code",
      "source": [
        "time_gnb_fit = (time_best_gnb_fit+time_best_gnb1_fit)/2\n",
        "time_gnb_test = (time_best_gnb_test+time_best_gnb1_test)/2 "
      ],
      "metadata": {
        "id": "LSDx3Qc3VT6-"
      },
      "execution_count": null,
      "outputs": []
    },
    {
      "cell_type": "markdown",
      "source": [
        "### **K - Nearest Neighbors**"
      ],
      "metadata": {
        "id": "qrR3gQy71tqu"
      }
    },
    {
      "cell_type": "markdown",
      "source": [
        "Ο αλγόριθμος των κοντινότερων γειτόνων, όπως είδαμε και στην out-of-the-box εκτέλεση, εξήγαγε εξαιρετικά αποτελέσματα. \n",
        "\n",
        "*   Για το πρόβλημα μας, παρατηρήσαμε ότι η προεπεξεργασία των δεδομένων, μέσω εφαρμογής κάποιου κατώφλίου ή του αλγορίθμου PCA (που μειώνουν τις διαστάσεις των δεδομένων), ήταν επιζήμιες για την απόδοση του.\n",
        "\n",
        "*   Παρόμοια συμπεριφορά είχε το μοντέλο (μειωμένη απόδοση), όταν για την κανονικοποίηση των τιμών, χρησιμοποιούσαμε τις συναρτήσεις StandardScaler και  MinMaxScaler. Αντιθέτως, ο Normalizer, βοηθούσε το μοντέλο μας στο να πετύχει ελάχιστα καλύτερες τιμές στο accuracy και το f1 score.\n",
        "\n",
        "Η μοναδική υπερ-παράμετρος που θα αναζητήσουμε με την συνάρτηση GridSearchCV, είναι ο αριθμός των κοντινότερων γειτόνων k (ο αριθμός k θα πρέπει να είναι περιττός, ειδικά στην περίπτωση της δυϊκής ταξινόμησης, για να αποφύσουμε τυχόν \"ισοπαλίες\"). Έπειτα, από ορισμένες δοκιμές, παρατηρούμε ότι καθώς αυξάνεται ο αριθμός k, μειώνεται και η απόδοση του αλγορίθμο στην πρόβλεψη των κλάσεων.  \n",
        "\n",
        "\n",
        "\n",
        "\n"
      ],
      "metadata": {
        "id": "DbpLRBX5UXDz"
      }
    },
    {
      "cell_type": "code",
      "source": [
        "clf = KNeighborsClassifier(n_jobs=-1)\n",
        "scaler = Normalizer()\n",
        "kneigh = [1,3,5,9,15]\n",
        "print(\"Results of KNN Classifier\")\n",
        "pipe_kNN1 = Pipeline(steps=[('scaler',scaler),('kNN',clf)])\n",
        "kNN_estimator = GridSearchCV(pipe_kNN1,dict(kNN__n_neighbors=kneigh),cv=10, scoring='accuracy', n_jobs=-1)\n",
        "kNN_acc = train_evaluate(kNN_estimator,X_train,y_train,X_test,y_test)"
      ],
      "metadata": {
        "id": "Inl2jSku1zVh",
        "colab": {
          "base_uri": "https://localhost:8080/"
        },
        "outputId": "40fc1164-4f8e-4bf9-db83-d7fb921713b0"
      },
      "execution_count": null,
      "outputs": [
        {
          "output_type": "stream",
          "name": "stdout",
          "text": [
            "Results of KNN Classifier\n",
            "Training Time: 9.561872 sec\n",
            "Testing Time: 0.425859 sec\n",
            "Testing Accuracy: 0.9751 % \n",
            "Testing F1 score: 0.9750 %\n"
          ]
        }
      ]
    },
    {
      "cell_type": "code",
      "source": [
        "print(kNN_estimator.best_estimator_)\n",
        "print('Parameters for best kNN (accuracy optimization) are:', kNN_estimator.best_params_)\n",
        "time_best_kNN_fit = kNN_estimator.refit_time_\n",
        "time_best_kNN_st= time.time()\n",
        "kNN_estimator.predict(X_test)\n",
        "time_best_kNN_fin = time.time()\n",
        "time_best_kNN_test = time_best_kNN_fin - time_best_kNN_st\n",
        "print(\"Time to refit best model: {:.6f} sec\".format(time_best_kNN_fit))\n",
        "print(\"Time to test best model: {:.6f} sec\".format(time_best_kNN_test))\n",
        "print('Mean cross-validated accuracy score of the best estimator: {:.4f} %'.format(kNN_estimator.best_score_))"
      ],
      "metadata": {
        "colab": {
          "base_uri": "https://localhost:8080/"
        },
        "id": "JzsZ7gTVMAH1",
        "outputId": "33da3d84-7038-4751-a2a2-02be2333edaa"
      },
      "execution_count": null,
      "outputs": [
        {
          "output_type": "stream",
          "name": "stdout",
          "text": [
            "Pipeline(steps=[('scaler', Normalizer()),\n",
            "                ('kNN', KNeighborsClassifier(n_jobs=-1, n_neighbors=1))])\n",
            "Parameters for best kNN (accuracy optimization) are: {'kNN__n_neighbors': 1}\n",
            "Time to refit best model: 0.023750 sec\n",
            "Time to test best model: 0.413472 sec\n",
            "Mean cross-validated accuracy score of the best estimator: 0.9722 %\n"
          ]
        }
      ]
    },
    {
      "cell_type": "code",
      "source": [
        "clf = KNeighborsClassifier(n_jobs=-1)\n",
        "selector = VarianceThreshold()\n",
        "scaler = Normalizer()\n",
        "kneigh = [1,3,5,9,15]\n",
        "print(\"Results of KNN Classifier\")\n",
        "pipe_kNN2 = Pipeline(steps=[('scaler',scaler),('kNN',clf)])\n",
        "kNN_estimator1 = GridSearchCV(pipe_kNN2,dict(kNN__n_neighbors=kneigh),cv=10, scoring='f1', n_jobs=-1)\n",
        "kNN_f1 = train_evaluate(kNN_estimator1,X_train,y_train,X_test,y_test)"
      ],
      "metadata": {
        "colab": {
          "base_uri": "https://localhost:8080/"
        },
        "id": "wbhMd-m3dSx9",
        "outputId": "86a673d6-417e-44d7-d475-eee177567263"
      },
      "execution_count": null,
      "outputs": [
        {
          "output_type": "stream",
          "name": "stdout",
          "text": [
            "Results of KNN Classifier\n",
            "Training Time: 11.503944 sec\n",
            "Testing Time: 0.904207 sec\n",
            "Testing Accuracy: 0.9751 % \n",
            "Testing F1 score: 0.9750 %\n"
          ]
        }
      ]
    },
    {
      "cell_type": "code",
      "source": [
        "print(kNN_estimator1.best_estimator_)\n",
        "print('Parameters for best kNN (f1 optimization) are:', kNN_estimator1.best_params_)\n",
        "time_best_kNN1_fit = kNN_estimator1.refit_time_\n",
        "time_best_kNN1_st= time.time()\n",
        "kNN_estimator1.predict(X_test)\n",
        "time_best_kNN1_fin = time.time()\n",
        "time_best_kNN1_test = time_best_kNN1_fin - time_best_kNN1_st\n",
        "print(\"Time to refit best model: {:.6f} sec\".format(time_best_kNN1_fit))\n",
        "print(\"Time to test best model: {:.6f} sec\".format(time_best_kNN1_test))\n",
        "print('Mean cross-validated accuracy score of the best estimator: {:.4f} %'.format(kNN_estimator1.best_score_))"
      ],
      "metadata": {
        "id": "sEriYzyo6RsD",
        "colab": {
          "base_uri": "https://localhost:8080/"
        },
        "outputId": "eab29c51-9291-4b1c-faec-b922be831775"
      },
      "execution_count": null,
      "outputs": [
        {
          "output_type": "stream",
          "name": "stdout",
          "text": [
            "Pipeline(steps=[('scaler', Normalizer()),\n",
            "                ('kNN', KNeighborsClassifier(n_jobs=-1, n_neighbors=1))])\n",
            "Parameters for best kNN (f1 optimization) are: {'kNN__n_neighbors': 1}\n",
            "Time to refit best model: 0.025397 sec\n",
            "Time to test best model: 0.944991 sec\n",
            "Mean cross-validated accuracy score of the best estimator: 0.9684 %\n"
          ]
        }
      ]
    },
    {
      "cell_type": "code",
      "source": [
        "time_kNN_fit = (time_best_kNN_fit+time_best_kNN1_fit)/2\n",
        "time_kNN_test = (time_best_kNN_test+time_best_kNN1_test)/2 "
      ],
      "metadata": {
        "id": "o6fcUtKgVayq"
      },
      "execution_count": null,
      "outputs": []
    },
    {
      "cell_type": "markdown",
      "source": [
        "### **Logistic Regression**"
      ],
      "metadata": {
        "id": "AexLd9gS11Sf"
      }
    },
    {
      "cell_type": "markdown",
      "source": [
        "Όπως και στον kNN προηγουμένως, έτσι και εδώ, παρατηρήσαμε ότι η αποτελεσματικότητα του Logistic Regression επηρεάζεται αρνητικά από προσθήκη του VarianceThreshold και του PCA μέσα στο Pipeline. \n",
        "\n",
        "Σε αντίθεση με τον GNB και τον kNN, σε αυτή τη περίπτωση επιλέχθηκε ο StandardScaler της sklearn για την κανονικοποίηση των δεδομένων, μιας και μας έδινε καλυτέρα αποτελέσματα από τις άλλες 2 επιλογές μας.\n",
        "\n",
        "Όσο αφορά τις υπερ-παραμέτρους του μοντέλου, στο grid search, θα προσπαθήσουμε να βρούμε τον καλύτερο συνδυασμό των παρακάτω υπερ-παραμέτρων: \n",
        "\n",
        "*   αλγορίθμου για την ανανέωση των βαρών\n",
        "\n",
        "*   της παραμέτρου C, η οποία είναι υπεύθυνη για το πόσο \"ισχυρό\" το regularization θα γίνει στα βάρη. Το regularization έχει ως σκοπό την αποφυγή του overfitting, κρατώντας τις τιμές των βαρών σχετικά χαμηλές. Για να το πετύχουμε αυτό, προσθέτουμε ένα penalty, το οποίο στην περίπτωση μας είναι η l2 νόρμα (εξετάσαμε και την περίπτωση της l1 νόρμας, χώρις βέβαια να δώσει καλύτερα αποτελέσματα)."
      ],
      "metadata": {
        "id": "6W0lkZ8deDwS"
      }
    },
    {
      "cell_type": "code",
      "source": [
        "clf = LogisticRegression(max_iter = 1000,random_state=42)\n",
        "scaler = StandardScaler()\n",
        "param_grid = {\n",
        "    \"logistic__solver\" : ['newton-cg', 'lbfgs', 'liblinear', 'sag', 'saga'],\n",
        "    \"logistic__C\": [0.1, 1, 10, 100, 1000, 10000]\n",
        "}\n",
        "print('Results of Logistic Regression')\n",
        "pipe_regression = Pipeline(steps=[('scaler',scaler),('logistic',clf)])\n",
        "reg_estimator = GridSearchCV(pipe_regression,param_grid,cv=10, scoring='accuracy', n_jobs=-1)\n",
        "reg_acc = train_evaluate(reg_estimator,X_train,y_train,X_test,y_test)"
      ],
      "metadata": {
        "id": "ARd0GzqC145t",
        "colab": {
          "base_uri": "https://localhost:8080/"
        },
        "outputId": "8fd93194-d10b-474c-f550-970f780bb700"
      },
      "execution_count": null,
      "outputs": [
        {
          "output_type": "stream",
          "name": "stdout",
          "text": [
            "Results of Logistic Regression\n",
            "Training Time: 346.140685 sec\n",
            "Testing Time: 0.004046 sec\n",
            "Testing Accuracy: 0.6333 % \n",
            "Testing F1 score: 0.6161 %\n"
          ]
        }
      ]
    },
    {
      "cell_type": "code",
      "source": [
        "print(reg_estimator.best_estimator_)\n",
        "print('Parameters for best Logistic Regression (accuracy optimization) are:', reg_estimator.best_params_)\n",
        "time_best_reg_fit = reg_estimator.refit_time_\n",
        "time_best_reg_st= time.time()\n",
        "reg_estimator.predict(X_test)\n",
        "time_best_reg_fin = time.time()\n",
        "time_best_reg_test = time_best_reg_fin - time_best_reg_st\n",
        "print(\"Time to refit best model: {:.6f} sec\".format(time_best_reg_fit))\n",
        "print(\"Time to test best model: {:.6f} sec\".format(time_best_reg_test))\n",
        "print('Mean cross-validated accuracy score of the best estimator: {:.4f} %'.format(reg_estimator.best_score_))"
      ],
      "metadata": {
        "colab": {
          "base_uri": "https://localhost:8080/"
        },
        "id": "VqKyDGhasRy5",
        "outputId": "acf8a25c-aa55-427e-ab30-dd72c293ac3e"
      },
      "execution_count": null,
      "outputs": [
        {
          "output_type": "stream",
          "name": "stdout",
          "text": [
            "Pipeline(steps=[('scaler', StandardScaler()),\n",
            "                ('logistic',\n",
            "                 LogisticRegression(C=1000, max_iter=1000, random_state=42))])\n",
            "Parameters for best Logistic Regression (accuracy optimization) are: {'logistic__C': 1000, 'logistic__solver': 'lbfgs'}\n",
            "Time to refit best model: 0.752592 sec\n",
            "Time to test best model: 0.014578 sec\n",
            "Mean cross-validated accuracy score of the best estimator: 0.6482 %\n"
          ]
        }
      ]
    },
    {
      "cell_type": "code",
      "source": [
        "clf = LogisticRegression(max_iter = 1000,random_state=42)\n",
        "scaler = StandardScaler()\n",
        "param_grid = {\n",
        "    \"logistic__solver\" : ['newton-cg', 'lbfgs', 'liblinear', 'sag', 'saga'],\n",
        "    \"logistic__C\": [0.01, 0.1, 1, 10, 100],\n",
        "}\n",
        "print('Results of Logistic Regression')\n",
        "pipe_regression1 = Pipeline(steps=[('scaler',scaler),('logistic',clf)])\n",
        "reg_estimator1 = GridSearchCV(pipe_regression1,param_grid,cv=10, scoring='f1', n_jobs=-1)\n",
        "reg_f1 = train_evaluate(reg_estimator1,X_train,y_train,X_test,y_test)"
      ],
      "metadata": {
        "colab": {
          "base_uri": "https://localhost:8080/"
        },
        "id": "Lw3bL0ekj67c",
        "outputId": "cab8ad71-2886-4c52-fdfb-2536d83a5ef4"
      },
      "execution_count": null,
      "outputs": [
        {
          "output_type": "stream",
          "name": "stdout",
          "text": [
            "Results of Logistic Regression\n",
            "Training Time: 200.268347 sec\n",
            "Testing Time: 0.003073 sec\n",
            "Testing Accuracy: 0.6326 % \n",
            "Testing F1 score: 0.6156 %\n"
          ]
        }
      ]
    },
    {
      "cell_type": "code",
      "source": [
        "print(reg_estimator1.best_estimator_)\n",
        "print('Parameters for best Logistic Regression (f1 optimization) are:', reg_estimator.best_params_)\n",
        "time_best_reg1_fit = reg_estimator1.refit_time_\n",
        "time_best_reg1_st= time.time()\n",
        "reg_estimator1.predict(X_test)\n",
        "time_best_reg1_fin = time.time()\n",
        "time_best_reg1_test = time_best_reg1_fin - time_best_reg1_st\n",
        "print(\"Time to refit best model: {:.6f} sec\".format(time_best_reg1_fit))\n",
        "print(\"Time to test best model: {:.6f} sec\".format(time_best_reg1_test))\n",
        "print('Mean cross-validated accuracy score of the best estimator: {:.4f} %'.format(reg_estimator1.best_score_))"
      ],
      "metadata": {
        "colab": {
          "base_uri": "https://localhost:8080/"
        },
        "id": "qilCveBysWJA",
        "outputId": "d5fa7812-8cd6-433a-c0b7-35b6d9c99de9"
      },
      "execution_count": null,
      "outputs": [
        {
          "output_type": "stream",
          "name": "stdout",
          "text": [
            "Pipeline(steps=[('scaler', StandardScaler()),\n",
            "                ('logistic',\n",
            "                 LogisticRegression(C=100, max_iter=1000, random_state=42,\n",
            "                                    solver='newton-cg'))])\n",
            "Parameters for best Logistic Regression (f1 optimization) are: {'logistic__C': 1000, 'logistic__solver': 'lbfgs'}\n",
            "Time to refit best model: 0.318927 sec\n",
            "Time to test best model: 0.003413 sec\n",
            "Mean cross-validated accuracy score of the best estimator: 0.5339 %\n"
          ]
        }
      ]
    },
    {
      "cell_type": "code",
      "source": [
        "time_reg_fit = (time_best_reg_fit+time_best_reg1_fit)/2\n",
        "time_reg_test = (time_best_reg_test+time_best_reg1_test)/2 "
      ],
      "metadata": {
        "id": "umSb0B4gVdag"
      },
      "execution_count": null,
      "outputs": []
    },
    {
      "cell_type": "markdown",
      "source": [
        "## **Αποτελέσματα και Συμπεράσματα**"
      ],
      "metadata": {
        "id": "u1QfZObjO_JO"
      }
    },
    {
      "cell_type": "markdown",
      "source": [
        "*   Η διαδικασία που ακολουθήσαμε όσον αφορά την προεπεξεργασία των δεδομένων εισόδου, δεν ήταν η ίδια για όλους τους ταξινομητές. \n",
        "\n",
        "*   Σε αλγορίθμους, όπως ο Nearest Neighbor και ο Logistic Regression, η κανονικοποίηση ήταν αρκετή για να πετύχουμε καλύτερα αποτελέσματα. Μάλιστα, στους αλγορίθμους αυτούς η χρήση τεχνικών, όπως το PCA και το Variance Threshold, είχαν αρνητική συνεισφορά στο τελικό αποτέλεσμα.\n",
        "\n",
        "*   Από την άλλη, στον αλγόριθμό του Naive Bayes, χρειαστήκαμε περισσότερα βήματα προεπεξεργασίας των δεδομένων, για να πετύχουμε μία κάπως πιο ικανοποιητική βελτίωση.\n",
        "\n",
        "*   Τέλος, όπως ήταν και αναμενόμενο, η ακρίβεια του Dummy ταξινομητή δεν επηρεάστηκε από την επεξεργασία των δεδομένων μας.\n",
        "\n",
        "*   Συχνά παρατηρούμε ότι οι υπερ-παράμετροι και η προεπεξεργασία που οδηγούν στην βέλτιστη τιμή του accuracy και του f1 score συμπίπτουν.\n",
        "\n",
        "*   Για τους βέλτιστους ταξινομητές, ως χρόνους για την εκπαίδευση και τον έλεγχο στα testing δεδομένα,  έχουμε πάρει την μέση τιμή των αντίστοιχων χρόνων, από όταν η βελτιστοποίηση έγινε ως προς το accuracy και το f1-score."
      ],
      "metadata": {
        "id": "aV9WDNCTKzag"
      }
    },
    {
      "cell_type": "markdown",
      "source": [
        "### *Παρουσίαση Αποτελεσμάτων σε Πίνακα*"
      ],
      "metadata": {
        "id": "gZH3kwWfPJGK"
      }
    },
    {
      "cell_type": "code",
      "source": [
        "classifier = ['Dummy','Gaussian Naive Bayes','KNN','Logistic Regression']\n",
        "accs = [100*dummy_acc[0],100*gnb_acc[0],100*kNN_acc[0],100*reg_acc[0]]\n",
        "f1_scores = [100*dummy_f1[1],100*gnb_f1[1],100*kNN_f1[1],100*reg_f1[1]]\n",
        "acc_diff = [100*(dummy_acc[0]-dummy_eval[0]),100*(gnb_acc[0]-gnb_eval[0]),\n",
        "            100*(kNN_acc[0]-knn_eval[0]),100*(reg_acc[0]-logistic_eval[0])]\n",
        "f1_diff = [100*(dummy_f1[1]-dummy_eval[1]),100*(gnb_f1[1]-gnb_eval[1]),\n",
        "           100*(kNN_f1[1]-knn_eval[1]),100*(reg_f1[1]-logistic_eval[1])]\n",
        "fit_time_acc = [time_dummy_fit, time_gnb_fit,time_kNN_fit,time_reg_fit]\n",
        "test_time_acc =[time_dummy_test, time_gnb_test,time_kNN_test,time_reg_test]\n",
        "\n",
        "d = list(zip(classifier,accs,f1_scores,acc_diff,f1_diff,fit_time_acc,test_time_acc))\n",
        "\n",
        "results = pd.DataFrame(d,columns = ['Classifier','Accuracy (%)','F1 Macro (%)','Accuracy Difference (%)',\n",
        "                          'F1 Difference (%)','Fitting Time (sec)','Testing Time(sec)'],).set_index('Classifier')\n",
        "results = results.style.format(\"{:.4f}\")\n",
        "results = results.set_properties(**{'width':'100px','text-align': 'center'})\n",
        "results"
      ],
      "metadata": {
        "colab": {
          "base_uri": "https://localhost:8080/",
          "height": 241
        },
        "id": "HzWX7QTsD0Ji",
        "outputId": "9147ceaf-4420-4a6f-83df-76aed7a23bd7"
      },
      "execution_count": null,
      "outputs": [
        {
          "output_type": "execute_result",
          "data": {
            "text/plain": [
              "<pandas.io.formats.style.Styler at 0x7fc4f0525190>"
            ],
            "text/html": [
              "<style type=\"text/css\">\n",
              "#T_4668d_row0_col0, #T_4668d_row0_col1, #T_4668d_row0_col2, #T_4668d_row0_col3, #T_4668d_row0_col4, #T_4668d_row0_col5, #T_4668d_row1_col0, #T_4668d_row1_col1, #T_4668d_row1_col2, #T_4668d_row1_col3, #T_4668d_row1_col4, #T_4668d_row1_col5, #T_4668d_row2_col0, #T_4668d_row2_col1, #T_4668d_row2_col2, #T_4668d_row2_col3, #T_4668d_row2_col4, #T_4668d_row2_col5, #T_4668d_row3_col0, #T_4668d_row3_col1, #T_4668d_row3_col2, #T_4668d_row3_col3, #T_4668d_row3_col4, #T_4668d_row3_col5 {\n",
              "  width: 100px;\n",
              "  text-align: center;\n",
              "}\n",
              "</style>\n",
              "<table id=\"T_4668d_\" class=\"dataframe\">\n",
              "  <thead>\n",
              "    <tr>\n",
              "      <th class=\"blank level0\" >&nbsp;</th>\n",
              "      <th class=\"col_heading level0 col0\" >Accuracy (%)</th>\n",
              "      <th class=\"col_heading level0 col1\" >F1 Macro (%)</th>\n",
              "      <th class=\"col_heading level0 col2\" >Accuracy Difference (%)</th>\n",
              "      <th class=\"col_heading level0 col3\" >F1 Difference (%)</th>\n",
              "      <th class=\"col_heading level0 col4\" >Fitting Time (sec)</th>\n",
              "      <th class=\"col_heading level0 col5\" >Testing Time(sec)</th>\n",
              "    </tr>\n",
              "    <tr>\n",
              "      <th class=\"index_name level0\" >Classifier</th>\n",
              "      <th class=\"blank col0\" >&nbsp;</th>\n",
              "      <th class=\"blank col1\" >&nbsp;</th>\n",
              "      <th class=\"blank col2\" >&nbsp;</th>\n",
              "      <th class=\"blank col3\" >&nbsp;</th>\n",
              "      <th class=\"blank col4\" >&nbsp;</th>\n",
              "      <th class=\"blank col5\" >&nbsp;</th>\n",
              "    </tr>\n",
              "  </thead>\n",
              "  <tbody>\n",
              "    <tr>\n",
              "      <th id=\"T_4668d_level0_row0\" class=\"row_heading level0 row0\" >Dummy</th>\n",
              "      <td id=\"T_4668d_row0_col0\" class=\"data row0 col0\" >53.09301</td>\n",
              "      <td id=\"T_4668d_row0_col1\" class=\"data row0 col1\" >31.92972</td>\n",
              "      <td id=\"T_4668d_row0_col2\" class=\"data row0 col2\" >0.00000</td>\n",
              "      <td id=\"T_4668d_row0_col3\" class=\"data row0 col3\" >-2.75051</td>\n",
              "      <td id=\"T_4668d_row0_col4\" class=\"data row0 col4\" >0.00105</td>\n",
              "      <td id=\"T_4668d_row0_col5\" class=\"data row0 col5\" >0.00046</td>\n",
              "    </tr>\n",
              "    <tr>\n",
              "      <th id=\"T_4668d_level0_row1\" class=\"row_heading level0 row1\" >Gaussian Naive Bayes</th>\n",
              "      <td id=\"T_4668d_row1_col0\" class=\"data row1 col0\" >60.41389</td>\n",
              "      <td id=\"T_4668d_row1_col1\" class=\"data row1 col1\" >58.46694</td>\n",
              "      <td id=\"T_4668d_row1_col2\" class=\"data row1 col2\" >13.59591</td>\n",
              "      <td id=\"T_4668d_row1_col3\" class=\"data row1 col3\" >23.19454</td>\n",
              "      <td id=\"T_4668d_row1_col4\" class=\"data row1 col4\" >0.03748</td>\n",
              "      <td id=\"T_4668d_row1_col5\" class=\"data row1 col5\" >0.00527</td>\n",
              "    </tr>\n",
              "    <tr>\n",
              "      <th id=\"T_4668d_level0_row2\" class=\"row_heading level0 row2\" >KNN</th>\n",
              "      <td id=\"T_4668d_row2_col0\" class=\"data row2 col0\" >97.50779</td>\n",
              "      <td id=\"T_4668d_row2_col1\" class=\"data row2 col1\" >97.49693</td>\n",
              "      <td id=\"T_4668d_row2_col2\" class=\"data row2 col2\" >1.04584</td>\n",
              "      <td id=\"T_4668d_row2_col3\" class=\"data row2 col3\" >1.05071</td>\n",
              "      <td id=\"T_4668d_row2_col4\" class=\"data row2 col4\" >0.02457</td>\n",
              "      <td id=\"T_4668d_row2_col5\" class=\"data row2 col5\" >0.67923</td>\n",
              "    </tr>\n",
              "    <tr>\n",
              "      <th id=\"T_4668d_level0_row3\" class=\"row_heading level0 row3\" >Logistic Regression</th>\n",
              "      <td id=\"T_4668d_row3_col0\" class=\"data row3 col0\" >63.32888</td>\n",
              "      <td id=\"T_4668d_row3_col1\" class=\"data row3 col1\" >61.56250</td>\n",
              "      <td id=\"T_4668d_row3_col2\" class=\"data row3 col2\" >0.26702</td>\n",
              "      <td id=\"T_4668d_row3_col3\" class=\"data row3 col3\" >0.19067</td>\n",
              "      <td id=\"T_4668d_row3_col4\" class=\"data row3 col4\" >0.53576</td>\n",
              "      <td id=\"T_4668d_row3_col5\" class=\"data row3 col5\" >0.00900</td>\n",
              "    </tr>\n",
              "  </tbody>\n",
              "</table>\n"
            ]
          },
          "metadata": {},
          "execution_count": 40
        }
      ]
    },
    {
      "cell_type": "markdown",
      "source": [
        "### *Bar Plots*"
      ],
      "metadata": {
        "id": "kTZXSit9Vqf-"
      }
    },
    {
      "cell_type": "code",
      "source": [
        "data2 = pd.DataFrame()\n",
        "data2['classifier'] = classifier\n",
        "data2['acc'] = accs\n",
        "data2['f1_scores'] = f1_scores\n",
        "data2['acc_diff'] = acc_diff\n",
        "data2['f1_diff'] = f1_diff\n",
        "data2 = pd.melt(data2, id_vars =['classifier'], value_vars =['acc', 'f1_scores','acc_diff','f1_diff'])\n",
        "plt.figure(figsize=(10,10))\n",
        "sns.barplot(x='classifier', y='value', hue='variable', data=data2)\n",
        "plt.show()"
      ],
      "metadata": {
        "id": "tOC70LZmU-Ok",
        "colab": {
          "base_uri": "https://localhost:8080/",
          "height": 606
        },
        "outputId": "1cf03626-607c-427a-9bfc-85eb1462f0ea"
      },
      "execution_count": null,
      "outputs": [
        {
          "output_type": "display_data",
          "data": {
            "text/plain": [
              "<Figure size 720x720 with 1 Axes>"
            ],
            "image/png": "[encoded data removed]"
          },
          "metadata": {
            "needs_background": "light"
          }
        }
      ]
    },
    {
      "cell_type": "markdown",
      "source": [
        "### *Confusion Matrices*"
      ],
      "metadata": {
        "id": "EMdqrDajVxLh"
      }
    },
    {
      "cell_type": "markdown",
      "source": [
        "Στη συνέχεια παρατίθενται τα confusion matrices των ταξινομητών:\n",
        "\n",
        "*   Nearest Neighbor (για k=1) - καλύτερος ταξινομητής\n",
        "\n",
        "*   Gaussian Naive Bayes - χειρότερος ταξινομητής\n",
        "\n",
        "(Εξαιρούμε τον Dummy Classifier)"
      ],
      "metadata": {
        "id": "w9xpxkRxWM6r"
      }
    },
    {
      "cell_type": "code",
      "source": [
        "from sklearn.metrics import confusion_matrix\n",
        "import itertools\n",
        "\n",
        "def plot_confusion_matrix(cm, classes,\n",
        "                          normalize,\n",
        "                          title='Confusion matrix',\n",
        "                          cmap=plt.cm.Blues):\n",
        "    \"\"\"\n",
        "    This function prints and plots the confusion matrix.\n",
        "    Normalization can be applied by setting normalize=True.\n",
        "    \"\"\"\n",
        "    if normalize:\n",
        "        cm = cm.astype('float') / cm.sum(axis=1)[:, np.newaxis]\n",
        "\n",
        "    plt.imshow(cm, interpolation='nearest', cmap=cmap)\n",
        "    plt.title(title)\n",
        "    plt.colorbar()\n",
        "    tick_marks = np.arange(len(classes))\n",
        "    plt.xticks(tick_marks, classes, rotation=45)\n",
        "    plt.yticks(tick_marks, classes)\n",
        "\n",
        "    fmt = '.2f' if normalize else 'd'\n",
        "    thresh = cm.max() / 2.\n",
        "    for i, j in itertools.product(range(cm.shape[0]), range(cm.shape[1])):\n",
        "        plt.text(j, i, format(cm[i, j], fmt),\n",
        "                 horizontalalignment=\"center\",\n",
        "                 color=\"white\" if cm[i, j] > thresh else \"black\")\n",
        "\n",
        "    plt.ylabel('True label')\n",
        "    plt.xlabel('Predicted label')\n",
        "    plt.tight_layout()\n",
        "    return "
      ],
      "metadata": {
        "id": "GUM6BsBwNZSm"
      },
      "execution_count": null,
      "outputs": []
    },
    {
      "cell_type": "code",
      "source": [
        "predictions = kNN_estimator.predict(X_test)\n",
        "cm = confusion_matrix(y_test, predictions, labels=labels.unique())\n",
        "plot_confusion_matrix(cm,classes=labels.unique(),title = 'kNN Confusion Matrix',normalize=True)"
      ],
      "metadata": {
        "colab": {
          "base_uri": "https://localhost:8080/",
          "height": 297
        },
        "id": "IXb-5cSW3Dcp",
        "outputId": "56fea154-7442-44b8-d55b-9ed2cd6d2776"
      },
      "execution_count": null,
      "outputs": [
        {
          "output_type": "display_data",
          "data": {
            "text/plain": [
              "<Figure size 432x288 with 2 Axes>"
            ],
            "image/png": "[encoded data removed]"
          },
          "metadata": {
            "needs_background": "light"
          }
        }
      ]
    },
    {
      "cell_type": "code",
      "source": [
        "predictions = gnb_estimator1.predict(X_test)\n",
        "cm = confusion_matrix(y_test, predictions, labels=labels.unique())\n",
        "plot_confusion_matrix(cm,classes=labels.unique(),title = 'GNB Confusion Matrix',normalize=True)"
      ],
      "metadata": {
        "colab": {
          "base_uri": "https://localhost:8080/",
          "height": 297
        },
        "id": "8ehOCoPKNZHb",
        "outputId": "4606b4dd-a247-444b-e806-7ce8f9956315"
      },
      "execution_count": null,
      "outputs": [
        {
          "output_type": "display_data",
          "data": {
            "text/plain": [
              "<Figure size 432x288 with 2 Axes>"
            ],
            "image/png": "[encoded data removed]"
          },
          "metadata": {
            "needs_background": "light"
          }
        }
      ]
    },
    {
      "cell_type": "markdown",
      "source": [
        "### *Συμπέρασμα*"
      ],
      "metadata": {
        "id": "nFloX8VeWTQc"
      }
    },
    {
      "cell_type": "markdown",
      "source": [
        "Συνολικά για όλους τους ταξινομητές, μπορούμε να δούμε πως μετά την βελτιστοποίηση, παρουσιάζουν καλύτερη απόδοση ειδικά ως προς το accuracy. \n",
        "\n",
        "Συγκεκριμένα μπορούμε να δούμε πως το μεγαλύτερο accuracy και f1 score εξακολουθεί να επιστρέφεται από τον kNN (για k=1 μετά από grid search). Οι χαμηλότερες τιμές f1 και accuracy επιστρέφονται από τους Gaussian Naive Bayes και Dummy αντίστοιχα. \n",
        "\n",
        "Προφανώς, ούτε η κανονικοποίηση, ούτε και η μείωση της διαστατικότητας των δεδομένων, μπόρεσαν να επιλύσουν τα προβλήματα που έχουν τα μοντέλα Gaussian Naive Bayes και Logistic Regression, που σχολιάσαμε και προηγουμένως (βλέπε σχόλια σε out of the box επίδοση)\n",
        "\n",
        "**Άρα ο ταξινομητής που θα επιλέγαμε για το συγκεκριμένο πρόβλημα είναι του κοντινότερου γείνονα**"
      ],
      "metadata": {
        "id": "NTDBY82MWV40"
      }
    },
    {
      "cell_type": "markdown",
      "source": [
        "# **Μέρος Δεύτερο**"
      ],
      "metadata": {
        "id": "l00OLuekFYMw"
      }
    },
    {
      "cell_type": "markdown",
      "source": [
        "## **Επισκόπηση Dataset**"
      ],
      "metadata": {
        "id": "kBSDou3B0DDs"
      }
    },
    {
      "cell_type": "code",
      "source": [
        "!pip install -U ray\n",
        "!pip install -U ray[tune]\n",
        "!pip install \"ray[tune]\" tune-sklearn "
      ],
      "metadata": {
        "id": "ulk4L_jOYYed"
      },
      "execution_count": null,
      "outputs": []
    },
    {
      "cell_type": "code",
      "source": [
        "from sklearn.svm import SVC\n",
        "from sklearn.neural_network import MLPClassifier\n",
        "from ray.tune.sklearn import TuneGridSearchCV\n",
        "from ray.tune.sklearn import TuneSearchCV"
      ],
      "metadata": {
        "id": "rbFaLTjbGDi3"
      },
      "execution_count": null,
      "outputs": []
    },
    {
      "cell_type": "markdown",
      "source": [
        "* Το συγκεκριμένο dataset περιέχει διαφορετικά είδη ξηρών φασολιών καθώς και διάφορα χαρακτηριστικά τους.\n",
        "\n",
        "* Στη συνέχεια της εργασίας έχει γίνει χρήση όλων των διαθέσιμων χαρακτηριστικών, ώστε να κατατάξουμε σε κάποια κλάση βρίσκεται το εκαστοτε δείγμα."
      ],
      "metadata": {
        "id": "kzVkGyXUWkXG"
      }
    },
    {
      "cell_type": "code",
      "source": [
        "dry = pd.read_csv('Dry_Bean.csv')\n",
        "dry.head()"
      ],
      "metadata": {
        "colab": {
          "base_uri": "https://localhost:8080/",
          "height": 270
        },
        "id": "DMZAcB0GHoxq",
        "outputId": "83c6add8-9fc5-48f6-e498-ff33605ad660"
      },
      "execution_count": null,
      "outputs": [
        {
          "output_type": "execute_result",
          "data": {
            "text/plain": [
              "    Area  Perimeter  MajorAxisLength  MinorAxisLength  AspectRation  \\\n",
              "0  28395    610.291       208.178117       173.888747      1.197191   \n",
              "1  28734    638.018       200.524796       182.734419      1.097356   \n",
              "2  29380    624.110       212.826130       175.931143      1.209713   \n",
              "3  30008    645.884       210.557999       182.516516      1.153638   \n",
              "4  30140    620.134       201.847882       190.279279      1.060798   \n",
              "\n",
              "   Eccentricity  ConvexArea  EquivDiameter    Extent  Solidity  roundness  \\\n",
              "0      0.549812       28715     190.141097  0.763923  0.988856   0.958027   \n",
              "1      0.411785       29172     191.272751  0.783968  0.984986   0.887034   \n",
              "2      0.562727       29690     193.410904  0.778113  0.989559   0.947849   \n",
              "3      0.498616       30724     195.467062  0.782681  0.976696   0.903936   \n",
              "4      0.333680       30417     195.896503  0.773098  0.990893   0.984877   \n",
              "\n",
              "   Compactness  ShapeFactor1  ShapeFactor2  ShapeFactor3  ShapeFactor4  Class  \n",
              "0     0.913358      0.007332      0.003147      0.834222      0.998724  SEKER  \n",
              "1     0.953861      0.006979      0.003564      0.909851      0.998430  SEKER  \n",
              "2     0.908774      0.007244      0.003048      0.825871      0.999066  SEKER  \n",
              "3     0.928329      0.007017      0.003215      0.861794      0.994199  SEKER  \n",
              "4     0.970516      0.006697      0.003665      0.941900      0.999166  SEKER  "
            ],
            "text/html": [
              "\n",
              "  <div id=\"df-85e2436c-aae9-4958-87e4-ea8c06eacd43\">\n",
              "    <div class=\"colab-df-container\">\n",
              "      <div>\n",
              "<style scoped>\n",
              "    .dataframe tbody tr th:only-of-type {\n",
              "        vertical-align: middle;\n",
              "    }\n",
              "\n",
              "    .dataframe tbody tr th {\n",
              "        vertical-align: top;\n",
              "    }\n",
              "\n",
              "    .dataframe thead th {\n",
              "        text-align: right;\n",
              "    }\n",
              "</style>\n",
              "<table border=\"1\" class=\"dataframe\">\n",
              "  <thead>\n",
              "    <tr style=\"text-align: right;\">\n",
              "      <th></th>\n",
              "      <th>Area</th>\n",
              "      <th>Perimeter</th>\n",
              "      <th>MajorAxisLength</th>\n",
              "      <th>MinorAxisLength</th>\n",
              "      <th>AspectRation</th>\n",
              "      <th>Eccentricity</th>\n",
              "      <th>ConvexArea</th>\n",
              "      <th>EquivDiameter</th>\n",
              "      <th>Extent</th>\n",
              "      <th>Solidity</th>\n",
              "      <th>roundness</th>\n",
              "      <th>Compactness</th>\n",
              "      <th>ShapeFactor1</th>\n",
              "      <th>ShapeFactor2</th>\n",
              "      <th>ShapeFactor3</th>\n",
              "      <th>ShapeFactor4</th>\n",
              "      <th>Class</th>\n",
              "    </tr>\n",
              "  </thead>\n",
              "  <tbody>\n",
              "    <tr>\n",
              "      <th>0</th>\n",
              "      <td>28395</td>\n",
              "      <td>610.291</td>\n",
              "      <td>208.178117</td>\n",
              "      <td>173.888747</td>\n",
              "      <td>1.197191</td>\n",
              "      <td>0.549812</td>\n",
              "      <td>28715</td>\n",
              "      <td>190.141097</td>\n",
              "      <td>0.763923</td>\n",
              "      <td>0.988856</td>\n",
              "      <td>0.958027</td>\n",
              "      <td>0.913358</td>\n",
              "      <td>0.007332</td>\n",
              "      <td>0.003147</td>\n",
              "      <td>0.834222</td>\n",
              "      <td>0.998724</td>\n",
              "      <td>SEKER</td>\n",
              "    </tr>\n",
              "    <tr>\n",
              "      <th>1</th>\n",
              "      <td>28734</td>\n",
              "      <td>638.018</td>\n",
              "      <td>200.524796</td>\n",
              "      <td>182.734419</td>\n",
              "      <td>1.097356</td>\n",
              "      <td>0.411785</td>\n",
              "      <td>29172</td>\n",
              "      <td>191.272751</td>\n",
              "      <td>0.783968</td>\n",
              "      <td>0.984986</td>\n",
              "      <td>0.887034</td>\n",
              "      <td>0.953861</td>\n",
              "      <td>0.006979</td>\n",
              "      <td>0.003564</td>\n",
              "      <td>0.909851</td>\n",
              "      <td>0.998430</td>\n",
              "      <td>SEKER</td>\n",
              "    </tr>\n",
              "    <tr>\n",
              "      <th>2</th>\n",
              "      <td>29380</td>\n",
              "      <td>624.110</td>\n",
              "      <td>212.826130</td>\n",
              "      <td>175.931143</td>\n",
              "      <td>1.209713</td>\n",
              "      <td>0.562727</td>\n",
              "      <td>29690</td>\n",
              "      <td>193.410904</td>\n",
              "      <td>0.778113</td>\n",
              "      <td>0.989559</td>\n",
              "      <td>0.947849</td>\n",
              "      <td>0.908774</td>\n",
              "      <td>0.007244</td>\n",
              "      <td>0.003048</td>\n",
              "      <td>0.825871</td>\n",
              "      <td>0.999066</td>\n",
              "      <td>SEKER</td>\n",
              "    </tr>\n",
              "    <tr>\n",
              "      <th>3</th>\n",
              "      <td>30008</td>\n",
              "      <td>645.884</td>\n",
              "      <td>210.557999</td>\n",
              "      <td>182.516516</td>\n",
              "      <td>1.153638</td>\n",
              "      <td>0.498616</td>\n",
              "      <td>30724</td>\n",
              "      <td>195.467062</td>\n",
              "      <td>0.782681</td>\n",
              "      <td>0.976696</td>\n",
              "      <td>0.903936</td>\n",
              "      <td>0.928329</td>\n",
              "      <td>0.007017</td>\n",
              "      <td>0.003215</td>\n",
              "      <td>0.861794</td>\n",
              "      <td>0.994199</td>\n",
              "      <td>SEKER</td>\n",
              "    </tr>\n",
              "    <tr>\n",
              "      <th>4</th>\n",
              "      <td>30140</td>\n",
              "      <td>620.134</td>\n",
              "      <td>201.847882</td>\n",
              "      <td>190.279279</td>\n",
              "      <td>1.060798</td>\n",
              "      <td>0.333680</td>\n",
              "      <td>30417</td>\n",
              "      <td>195.896503</td>\n",
              "      <td>0.773098</td>\n",
              "      <td>0.990893</td>\n",
              "      <td>0.984877</td>\n",
              "      <td>0.970516</td>\n",
              "      <td>0.006697</td>\n",
              "      <td>0.003665</td>\n",
              "      <td>0.941900</td>\n",
              "      <td>0.999166</td>\n",
              "      <td>SEKER</td>\n",
              "    </tr>\n",
              "  </tbody>\n",
              "</table>\n",
              "</div>\n",
              "      <button class=\"colab-df-convert\" onclick=\"convertToInteractive('df-85e2436c-aae9-4958-87e4-ea8c06eacd43')\"\n",
              "              title=\"Convert this dataframe to an interactive table.\"\n",
              "              style=\"display:none;\">\n",
              "        \n",
              "  <svg xmlns=\"http://www.w3.org/2000/svg\" height=\"24px\"viewBox=\"0 0 24 24\"\n",
              "       width=\"24px\">\n",
              "    <path d=\"M0 0h24v24H0V0z\" fill=\"none\"/>\n",
              "    <path d=\"M18.56 5.44l.94 2.06.94-2.06 2.06-.94-2.06-.94-.94-2.06-.94 2.06-2.06.94zm-11 1L8.5 8.5l.94-2.06 2.06-.94-2.06-.94L8.5 2.5l-.94 2.06-2.06.94zm10 10l.94 2.06.94-2.06 2.06-.94-2.06-.94-.94-2.06-.94 2.06-2.06.94z\"/><path d=\"M17.41 7.96l-1.37-1.37c-.4-.4-.92-.59-1.43-.59-.52 0-1.04.2-1.43.59L10.3 9.45l-7.72 7.72c-.78.78-.78 2.05 0 2.83L4 21.41c.39.39.9.59 1.41.59.51 0 1.02-.2 1.41-.59l7.78-7.78 2.81-2.81c.8-.78.8-2.07 0-2.86zM5.41 20L4 18.59l7.72-7.72 1.47 1.35L5.41 20z\"/>\n",
              "  </svg>\n",
              "      </button>\n",
              "      \n",
              "  <style>\n",
              "    .colab-df-container {\n",
              "      display:flex;\n",
              "      flex-wrap:wrap;\n",
              "      gap: 12px;\n",
              "    }\n",
              "\n",
              "    .colab-df-convert {\n",
              "      background-color: #E8F0FE;\n",
              "      border: none;\n",
              "      border-radius: 50%;\n",
              "      cursor: pointer;\n",
              "      display: none;\n",
              "      fill: #1967D2;\n",
              "      height: 32px;\n",
              "      padding: 0 0 0 0;\n",
              "      width: 32px;\n",
              "    }\n",
              "\n",
              "    .colab-df-convert:hover {\n",
              "      background-color: #E2EBFA;\n",
              "      box-shadow: 0px 1px 2px rgba(60, 64, 67, 0.3), 0px 1px 3px 1px rgba(60, 64, 67, 0.15);\n",
              "      fill: #174EA6;\n",
              "    }\n",
              "\n",
              "    [theme=dark] .colab-df-convert {\n",
              "      background-color: #3B4455;\n",
              "      fill: #D2E3FC;\n",
              "    }\n",
              "\n",
              "    [theme=dark] .colab-df-convert:hover {\n",
              "      background-color: #434B5C;\n",
              "      box-shadow: 0px 1px 3px 1px rgba(0, 0, 0, 0.15);\n",
              "      filter: drop-shadow(0px 1px 2px rgba(0, 0, 0, 0.3));\n",
              "      fill: #FFFFFF;\n",
              "    }\n",
              "  </style>\n",
              "\n",
              "      <script>\n",
              "        const buttonEl =\n",
              "          document.querySelector('#df-85e2436c-aae9-4958-87e4-ea8c06eacd43 button.colab-df-convert');\n",
              "        buttonEl.style.display =\n",
              "          google.colab.kernel.accessAllowed ? 'block' : 'none';\n",
              "\n",
              "        async function convertToInteractive(key) {\n",
              "          const element = document.querySelector('#df-85e2436c-aae9-4958-87e4-ea8c06eacd43');\n",
              "          const dataTable =\n",
              "            await google.colab.kernel.invokeFunction('convertToInteractive',\n",
              "                                                     [key], {});\n",
              "          if (!dataTable) return;\n",
              "\n",
              "          const docLinkHtml = 'Like what you see? Visit the ' +\n",
              "            '<a target=\"_blank\" href=https://colab.research.google.com/notebooks/data_table.ipynb>data table notebook</a>'\n",
              "            + ' to learn more about interactive tables.';\n",
              "          element.innerHTML = '';\n",
              "          dataTable['output_type'] = 'display_data';\n",
              "          await google.colab.output.renderOutput(dataTable, element);\n",
              "          const docLink = document.createElement('div');\n",
              "          docLink.innerHTML = docLinkHtml;\n",
              "          element.appendChild(docLink);\n",
              "        }\n",
              "      </script>\n",
              "    </div>\n",
              "  </div>\n",
              "  "
            ]
          },
          "metadata": {},
          "execution_count": 17
        }
      ]
    },
    {
      "cell_type": "code",
      "source": [
        "print(\"Total number of elements :\",dry.shape[0])\n",
        "detect=dry.columns.tolist()\n",
        "detect.pop()\n",
        "print(\"Number of attributes :\",len(detect))\n",
        "print(\"Attributes are :\",detect)"
      ],
      "metadata": {
        "colab": {
          "base_uri": "https://localhost:8080/"
        },
        "id": "8eAmZEImH-cc",
        "outputId": "4b8207e4-d70f-4b64-d3b0-6d7405abb07b"
      },
      "execution_count": null,
      "outputs": [
        {
          "output_type": "stream",
          "name": "stdout",
          "text": [
            "Total number of elements : 13611\n",
            "Number of attributes : 16\n",
            "Attributes are : ['Area', 'Perimeter', 'MajorAxisLength', 'MinorAxisLength', 'AspectRation', 'Eccentricity', 'ConvexArea', 'EquivDiameter', 'Extent', 'Solidity', 'roundness', 'Compactness', 'ShapeFactor1', 'ShapeFactor2', 'ShapeFactor3', 'ShapeFactor4']\n"
          ]
        }
      ]
    },
    {
      "cell_type": "code",
      "source": [
        "print(\"Check whether we can find NaN values :\",dry.isnull().values.any())"
      ],
      "metadata": {
        "colab": {
          "base_uri": "https://localhost:8080/"
        },
        "id": "Qp4yMNmfIKG8",
        "outputId": "4564ecb9-4889-416e-b9ee-acd2c2bdd89f"
      },
      "execution_count": null,
      "outputs": [
        {
          "output_type": "stream",
          "name": "stdout",
          "text": [
            "Check whether we can find NaN values : False\n"
          ]
        }
      ]
    },
    {
      "cell_type": "markdown",
      "source": [
        "<ul>\n",
        "<li>Όπως μπορούμε να δούμε υπάρχει ανισορροπία στο dataset αφού υπάρχουν κλάσεις που εμφανίζονται με πολύ μεγαλύτερη συχνότητα έναντι μερικών άλλων. Αυτό μπορεί στην συνέχεια να επηρεάσει την απόδοση των αλγορίθμων μας.</li>\n",
        "</ul>"
      ],
      "metadata": {
        "id": "aSBaXvuVLLes"
      }
    },
    {
      "cell_type": "code",
      "source": [
        "cls = dry[\"Class\"]\n",
        "lab , counts = np.unique(cls,return_counts=True)\n",
        "print('The classes of our dataset are:',lab)\n",
        "for i in range(0,7):\n",
        "  print(\"Percentage of class {:s} : {:.2f} %\".format(lab[i],(counts[i]/sum(counts))*100))\n",
        "labels = pd.factorize(dry['Class'])\n",
        "labels = labels[0]"
      ],
      "metadata": {
        "colab": {
          "base_uri": "https://localhost:8080/"
        },
        "id": "usA_6EuJITfX",
        "outputId": "d371772e-61cc-4e7c-9deb-7470273b5eae"
      },
      "execution_count": null,
      "outputs": [
        {
          "output_type": "stream",
          "name": "stdout",
          "text": [
            "The classes of our dataset are: ['BARBUNYA' 'BOMBAY' 'CALI' 'DERMASON' 'HOROZ' 'SEKER' 'SIRA']\n",
            "Percentage of class BARBUNYA : 9.71 %\n",
            "Percentage of class BOMBAY : 3.84 %\n",
            "Percentage of class CALI : 11.98 %\n",
            "Percentage of class DERMASON : 26.05 %\n",
            "Percentage of class HOROZ : 14.17 %\n",
            "Percentage of class SEKER : 14.89 %\n",
            "Percentage of class SIRA : 19.37 %\n"
          ]
        }
      ]
    },
    {
      "cell_type": "code",
      "source": [
        "with warnings.catch_warnings():\n",
        "  warnings.filterwarnings(\"ignore\", category=FutureWarning)\n",
        "  sns.countplot(dry['Class'])"
      ],
      "metadata": {
        "colab": {
          "base_uri": "https://localhost:8080/",
          "height": 279
        },
        "id": "0HVYNbkYIzJo",
        "outputId": "3ced5597-f2f2-4d17-b299-a4615b486845"
      },
      "execution_count": null,
      "outputs": [
        {
          "output_type": "display_data",
          "data": {
            "text/plain": [
              "<Figure size 432x288 with 1 Axes>"
            ],
            "image/png": "[encoded data removed]"
          },
          "metadata": {
            "needs_background": "light"
          }
        }
      ]
    },
    {
      "cell_type": "markdown",
      "source": [
        "## **Προετοιμασία**"
      ],
      "metadata": {
        "id": "qr9ki4RFL0TG"
      }
    },
    {
      "cell_type": "code",
      "source": [
        "y = labels\n",
        "X = dry.drop(columns=\"Class\")\n",
        "X_train, X_test, y_train, y_test = train_test_split(X, y, test_size=0.3, random_state=42)\n",
        "print('Shape of X_train: {0}, y_train: {1}'.format(X_train.shape,y_train.shape))\n",
        "print('Shape of X_test: {0}, y_test: {1}'.format(X_test.shape,y_test.shape))"
      ],
      "metadata": {
        "colab": {
          "base_uri": "https://localhost:8080/"
        },
        "id": "45VNAMaXL4ID",
        "outputId": "7a5dfdeb-0798-4c0c-b094-0e1faecd3fde"
      },
      "execution_count": null,
      "outputs": [
        {
          "output_type": "stream",
          "name": "stdout",
          "text": [
            "Shape of X_train: (9527, 16), y_train: (9527,)\n",
            "Shape of X_test: (4084, 16), y_test: (4084,)\n"
          ]
        }
      ]
    },
    {
      "cell_type": "markdown",
      "source": [
        "## **Ταξινομητές**"
      ],
      "metadata": {
        "id": "2q-yNU7TL_-h"
      }
    },
    {
      "cell_type": "markdown",
      "source": [
        "Για την out-of-the-box επίδοση των 3 ταξινομητών, θα υπολογίζουμε κάθε φορά,το accuracy και το f1 score, ενώ επίσης θα εφαρμόσουμε και σχήμα cross-validation με kfold=5, ώστε να έχουμε μία πιο γενική εποπτεία της επίδοσης του κάθε μοντέλου και να αποφύγουμε τυχόν εξαρτήσεις από τα δεδομένα εκπαίδευσης."
      ],
      "metadata": {
        "id": "Ld4e-tMQaBsY"
      }
    },
    {
      "cell_type": "markdown",
      "source": [
        "### **Dummy**"
      ],
      "metadata": {
        "id": "qaVYQXfkWWtR"
      }
    },
    {
      "cell_type": "code",
      "source": [
        "dummy = DummyClassifier()\n",
        "print(\"Results of Default/Prior Dummy Classifier\")\n",
        "dummy_eval = train_evaluate(dummy,X_train,y_train,X_test,y_test,kfold=5)"
      ],
      "metadata": {
        "colab": {
          "base_uri": "https://localhost:8080/"
        },
        "id": "D-Kjy2V9GX_9",
        "outputId": "674a3cc5-265f-4b6c-af75-987ce714e452"
      },
      "execution_count": null,
      "outputs": [
        {
          "output_type": "stream",
          "name": "stdout",
          "text": [
            "Results of Default/Prior Dummy Classifier\n",
            "Training Time: 0.000764 sec\n",
            "Testing Time: 0.000183 sec\n",
            "Testing Accuracy: 0.2554 % \n",
            "Testing F1 score: 0.0581 %\n",
            "Cross Validation Accuracy: 0.2627 % \n",
            "Cross Validation F1 score: 0.0594 %\n"
          ]
        }
      ]
    },
    {
      "cell_type": "markdown",
      "source": [
        "### **MLP**"
      ],
      "metadata": {
        "id": "6g3NfvzVWZQh"
      }
    },
    {
      "cell_type": "code",
      "source": [
        "MLP = MLPClassifier()\n",
        "print(\"Results of Default MLP Classifier\")\n",
        "mlp_eval = train_evaluate(MLP,X_train,y_train,X_test,y_test,kfold=5)"
      ],
      "metadata": {
        "colab": {
          "base_uri": "https://localhost:8080/"
        },
        "id": "XCfcb_i-GSX4",
        "outputId": "52254ace-a743-4b51-ff7d-6289e2351f34"
      },
      "execution_count": null,
      "outputs": [
        {
          "output_type": "stream",
          "name": "stdout",
          "text": [
            "Results of Default MLP Classifier\n",
            "Training Time: 3.074860 sec\n",
            "Testing Time: 0.012723 sec\n",
            "Testing Accuracy: 0.4990 % \n",
            "Testing F1 score: 0.3905 %\n",
            "Cross Validation Accuracy: 0.4342 % \n",
            "Cross Validation F1 score: 0.2586 %\n"
          ]
        }
      ]
    },
    {
      "cell_type": "markdown",
      "source": [
        "### **SVM**"
      ],
      "metadata": {
        "id": "UZIQoFzdWbTy"
      }
    },
    {
      "cell_type": "code",
      "source": [
        "SVM = SVC()\n",
        "print(\"Results of SVM Classifier\")\n",
        "svm_eval = train_evaluate(SVM,X_train,y_train,X_test,y_test,kfold=5)"
      ],
      "metadata": {
        "colab": {
          "base_uri": "https://localhost:8080/"
        },
        "id": "MV0eoMZeHIhT",
        "outputId": "fca832f6-64b2-4745-983d-77723392c0a6"
      },
      "execution_count": null,
      "outputs": [
        {
          "output_type": "stream",
          "name": "stdout",
          "text": [
            "Results of SVM Classifier\n",
            "Training Time: 2.013843 sec\n",
            "Testing Time: 1.796424 sec\n",
            "Testing Accuracy: 0.6325 % \n",
            "Testing F1 score: 0.5977 %\n",
            "Cross Validation Accuracy: 0.6361 % \n",
            "Cross Validation F1 score: 0.5956 %\n"
          ]
        }
      ]
    },
    {
      "cell_type": "markdown",
      "source": [
        "### Σχόλια"
      ],
      "metadata": {
        "id": "Ma7LlMkgbAva"
      }
    },
    {
      "cell_type": "markdown",
      "source": [
        "<ul>\n",
        "<li>\n",
        "Χωρίς να οποιαδήποτε βελτιστοποίηση στα δεδομένα και τις υπερ - παραμέτρους των μοντέλων, παρατηρούμε ότι ο SVM εμφανίζει εμφανώς καλύτερα αποτελέσματα (χωρίς βέβαια να εξασφαλίζει υπερβολικά καλά αποτελέσματα).\n",
        "</li>\n",
        "<li>\n",
        "Όπως ήταν αναμενόμενο, ο Dummy ταξινομητής έχει τις χειρότερες επιδόσεις. Η ακρίβεια του λαμβάνει τιμές κοντά στο 25%, που είναι και το ποσοστό με το οποίο εμφανίζεται και η κλάση με τα περισσότερα δεδομένα στο dataset μας. Από την άλλη η f1 μετρική έχει ακόμα πιο χαμηλή τιμή (κάτω από 10%).\n",
        "</li>\n",
        "<li>\n",
        "Τέλος, όσον αφορά τον MLP ταξινομητή, παρατηρούμε ότι η απόδοση του, αν και καλύτερη από του Dummy, είναι αρκετά χαμηλή (20% χαμηλότερη από του Default SVM). Μάλιστα, ύστερα από 5-fold Cross Validation, βλέπουμε ότι οι μετρικές για την απόδοση του είναι ακόμα πιο χαμηλές. Η χρήση του Cross Validation στην περίπτωση μας, μπορεί να μας βοηθήσει να εντοπίσουμε το overfit στα δεδομένα εισόδου.\n",
        "</li>\n",
        "</ul>\n",
        "\n",
        "Τα αποτελέσματα των παραπάνω ταξινομητών, με τις default τιμές τους, μπορούμε να τα δούμε και στον παρακάτω πίνακα (και στο bar plot που ακολουθεί)\n"
      ],
      "metadata": {
        "id": "DsLQIIHnbD24"
      }
    },
    {
      "cell_type": "code",
      "source": [
        "classifier = ['Dummy','MLP','SVM']\n",
        "accs = [100*dummy_eval[0],100*mlp_eval[0],100*svm_eval[0]]\n",
        "f1_scores = [100*dummy_eval[1],100*mlp_eval[1],100*svm_eval[1]]\n",
        "cross_acc = [100*dummy_eval[2],100*mlp_eval[2],100*svm_eval[2]]\n",
        "cross_f1 = [100*dummy_eval[3],100*mlp_eval[3],100*svm_eval[3]]\n",
        "d = list(zip(classifier,accs,f1_scores,cross_acc,cross_f1))\n",
        "\n",
        "results = pd.DataFrame(d,columns = ['Classifier','Accuracy (%)','F1 Macro (%)',\n",
        "                        'Cross Validation Accuracy (%)','Cross Validation F1 (%)'],).set_index('Classifier')\n",
        "results = results.style.format(\"{:.3f}\")\n",
        "results = results.set_properties(**{'width':'100px','text-align': 'center'})\n",
        "results"
      ],
      "metadata": {
        "colab": {
          "base_uri": "https://localhost:8080/",
          "height": 210
        },
        "id": "r2veTCkwfBA_",
        "outputId": "2f260ddc-1b49-4cc5-bbae-e797d2f516a1"
      },
      "execution_count": null,
      "outputs": [
        {
          "output_type": "execute_result",
          "data": {
            "text/plain": [
              "<pandas.io.formats.style.Styler at 0x7f445b59de90>"
            ],
            "text/html": [
              "<style type=\"text/css\">\n",
              "#T_7177c_row0_col0, #T_7177c_row0_col1, #T_7177c_row0_col2, #T_7177c_row0_col3, #T_7177c_row1_col0, #T_7177c_row1_col1, #T_7177c_row1_col2, #T_7177c_row1_col3, #T_7177c_row2_col0, #T_7177c_row2_col1, #T_7177c_row2_col2, #T_7177c_row2_col3 {\n",
              "  width: 100px;\n",
              "  text-align: center;\n",
              "}\n",
              "</style>\n",
              "<table id=\"T_7177c_\" class=\"dataframe\">\n",
              "  <thead>\n",
              "    <tr>\n",
              "      <th class=\"blank level0\" >&nbsp;</th>\n",
              "      <th class=\"col_heading level0 col0\" >Accuracy (%)</th>\n",
              "      <th class=\"col_heading level0 col1\" >F1 Macro (%)</th>\n",
              "      <th class=\"col_heading level0 col2\" >Cross Validation Accuracy (%)</th>\n",
              "      <th class=\"col_heading level0 col3\" >Cross Validation F1 (%)</th>\n",
              "    </tr>\n",
              "    <tr>\n",
              "      <th class=\"index_name level0\" >Classifier</th>\n",
              "      <th class=\"blank col0\" >&nbsp;</th>\n",
              "      <th class=\"blank col1\" >&nbsp;</th>\n",
              "      <th class=\"blank col2\" >&nbsp;</th>\n",
              "      <th class=\"blank col3\" >&nbsp;</th>\n",
              "    </tr>\n",
              "  </thead>\n",
              "  <tbody>\n",
              "    <tr>\n",
              "      <th id=\"T_7177c_level0_row0\" class=\"row_heading level0 row0\" >Dummy</th>\n",
              "      <td id=\"T_7177c_row0_col0\" class=\"data row0 col0\" >25.539</td>\n",
              "      <td id=\"T_7177c_row0_col1\" class=\"data row0 col1\" >5.812</td>\n",
              "      <td id=\"T_7177c_row0_col2\" class=\"data row0 col2\" >26.273</td>\n",
              "      <td id=\"T_7177c_row0_col3\" class=\"data row0 col3\" >5.944</td>\n",
              "    </tr>\n",
              "    <tr>\n",
              "      <th id=\"T_7177c_level0_row1\" class=\"row_heading level0 row1\" >MLP</th>\n",
              "      <td id=\"T_7177c_row1_col0\" class=\"data row1 col0\" >49.902</td>\n",
              "      <td id=\"T_7177c_row1_col1\" class=\"data row1 col1\" >39.051</td>\n",
              "      <td id=\"T_7177c_row1_col2\" class=\"data row1 col2\" >43.423</td>\n",
              "      <td id=\"T_7177c_row1_col3\" class=\"data row1 col3\" >25.865</td>\n",
              "    </tr>\n",
              "    <tr>\n",
              "      <th id=\"T_7177c_level0_row2\" class=\"row_heading level0 row2\" >SVM</th>\n",
              "      <td id=\"T_7177c_row2_col0\" class=\"data row2 col0\" >63.247</td>\n",
              "      <td id=\"T_7177c_row2_col1\" class=\"data row2 col1\" >59.768</td>\n",
              "      <td id=\"T_7177c_row2_col2\" class=\"data row2 col2\" >63.609</td>\n",
              "      <td id=\"T_7177c_row2_col3\" class=\"data row2 col3\" >59.558</td>\n",
              "    </tr>\n",
              "  </tbody>\n",
              "</table>\n"
            ]
          },
          "metadata": {},
          "execution_count": 24
        }
      ]
    },
    {
      "cell_type": "code",
      "source": [
        "data2 = pd.DataFrame()\n",
        "data2['classifier'] = classifier\n",
        "data2['acc'] = accs\n",
        "data2['f1_scores'] = f1_scores\n",
        "data2['cross acc'] = cross_acc\n",
        "data2['cross f1'] = cross_f1\n",
        "\n",
        "data2 = pd.melt(data2, id_vars =['classifier'], value_vars =['acc', 'f1_scores','cross acc','cross f1'])\n",
        "plt.figure(figsize=(10,10))\n",
        "sns.barplot(x='classifier', y='value', hue='variable', data=data2)\n",
        "plt.show()"
      ],
      "metadata": {
        "colab": {
          "base_uri": "https://localhost:8080/",
          "height": 606
        },
        "id": "ZvcazoqhfBcz",
        "outputId": "68cf349f-dee8-475e-90f6-7e576d1f19aa"
      },
      "execution_count": null,
      "outputs": [
        {
          "output_type": "display_data",
          "data": {
            "text/plain": [
              "<Figure size 720x720 with 1 Axes>"
            ],
            "image/png": "[encoded data removed]"
          },
          "metadata": {
            "needs_background": "light"
          }
        }
      ]
    },
    {
      "cell_type": "markdown",
      "source": [
        "## **Βελτιστοποίηση**"
      ],
      "metadata": {
        "id": "8zqIreGmOsTE"
      }
    },
    {
      "cell_type": "markdown",
      "source": [
        "Για την εύρεση των υπερ-παραμέτρων, που οδηγούν στην καλύτερη επίδοση των ταξινομητών, θα εξετάσουμε κυρίως την f1 μετρική, καθώς σε αντίθεση με το accuracy, λαμβάνει υπόψιν της, τις ανισορροπίες που παρατηρούμε στο σύνολο δεδομένων μας. Μάλιστα, επείδη το σύνολο μας περιλαμβάνει πολλαπλές κλάσεις, θα υπολογίζουμε κάθε φορά την macro average τιμή, η λαμβάνεται από τον μέσο όρο των f1 τιμών των επιμέρους κλάσεων. "
      ],
      "metadata": {
        "id": "PMh6r9-EWsnq"
      }
    },
    {
      "cell_type": "markdown",
      "source": [
        "### **Dummy**"
      ],
      "metadata": {
        "id": "o8k4tOaCAEpY"
      }
    },
    {
      "cell_type": "markdown",
      "source": [
        "Για τον Dummy ταξινομητή, όπως και στο προηγούμενο ερώτημα, θα εξετάσουμε διάφορες στρατηγικές για τις προβλέψεις του. Επιπλέον, εξετάσαμε αν η χρήση του RandomOverSampler, θα βοηθήσει ή όχι την απόδοση του ταξινομητή (τελικά για την f1 μετρική, το αφαιρέσαμε)."
      ],
      "metadata": {
        "id": "TwV9KqNRXPxu"
      }
    },
    {
      "cell_type": "code",
      "source": [
        "clf = DummyClassifier()\n",
        "strat = ['uniform','most_frequent','stratified','constant']\n",
        "con = [0,1]\n",
        "pipe_dc = Pipeline(steps=[('dummy',clf)])\n",
        "print(\"Results of Dummy Classifier - F1 Score Optimization\")\n",
        "estimator = GridSearchCV(pipe_dc, dict(dummy__strategy=strat,dummy__constant=con),\n",
        "                         cv=10, scoring='f1_macro', n_jobs=-1)\n",
        "dummy_estimator = train_evaluate(estimator,X_train,y_train,X_test,y_test)\n",
        "print(\"Time to test best model: {:.6f} sec\".format(estimator.refit_time_))"
      ],
      "metadata": {
        "colab": {
          "base_uri": "https://localhost:8080/"
        },
        "outputId": "72b13315-c36d-45eb-88cc-d48a763bbdd4",
        "id": "-YdEVQroALn0"
      },
      "execution_count": null,
      "outputs": [
        {
          "output_type": "stream",
          "name": "stdout",
          "text": [
            "Results of Dummy Classifier - F1 Score Optimization\n",
            "Training Time: 1.847038 sec\n",
            "Testing Time: 0.002173 sec\n",
            "Testing Accuracy: 0.1787 % \n",
            "Testing F1 score: 0.1476 %\n",
            "Time to test best model: 0.001190 sec\n"
          ]
        }
      ]
    },
    {
      "cell_type": "markdown",
      "source": [
        "### **MLP**"
      ],
      "metadata": {
        "id": "NJXgKagvWiXy"
      }
    },
    {
      "cell_type": "markdown",
      "source": [
        "Στη συγκεκριμένη περίπτωση, όπως φαίνεται και παραπάνω χρησιμοποιήσαμε τη βιβλιοθήκη βελτιστοποίησης Ray, και μάλιστα την συνάρτηση TuneGridSearch. Με την χρήση της αντί της συνάρτησης GridSearchCV της sklearn, επιταγχύναμε αισθητά την διαδικασία εύρεσης των βέλτιστων υπερπαραμέτρων.\n",
        "\n",
        "Οδηγηθήκαμε στο βέλτιστο μοντέλο χρησιμοποιώντας διαφορετικούς συνδυασμούς από hidden layers και αριθμού νευρώνων σ' αυτά, καθώς και διαφορετικές συναρτήσεις ενεργοποίησης.\n",
        "\n",
        "Τα δεδομένα έχουν υποστεί κανονικοποίηση, ώστε να μην επηρεάζεται το νευρωνικό δίκτυο από τα εύρη τιμών των χαρακτηριστικών, ενώ επίσης έχουμε εφαρμόσει την μέθοδο oversampling στα δεδομένα των κλάσεων μειονότητας, για να αντιμετωπιστεί το γεγονός πως επεξεργαζόμαστε ένα μη ισορροπημένο dataset. Ακόμη έχει γίνει χρήση του αλγορίθμου PCA, προκειμένου να εξετάσουμε το βέλτιστο αριθμό διαστάσεων που απαιτούνται. \n",
        "\n",
        "Τέλος, πρέπει να επισημάνουμε πως έχουμε δώσει την δυνατότητα για Early Stopping κατά την εκπαίδευση των διαφόρων MLP (με validation set ίσο με 20% των δεδομένων εκπαίδευσης), προκειμένου να αποφύγουμε τον κίνδυνο του overfitting στα training δεδομένα."
      ],
      "metadata": {
        "id": "nYKdejshXVuq"
      }
    },
    {
      "cell_type": "code",
      "source": [
        "clf = MLPClassifier(solver='adam',tol=0.001,early_stopping=True,validation_fraction=0.2)\n",
        "pca = PCA()\n",
        "n_components = [5,8,10,14]\n",
        "scaler = Normalizer()\n",
        "ros = RandomOverSampler()\n",
        "parameter_space = {\n",
        "    'mlp__hidden_layer_sizes': [list((32,32,32,)),list((64,64,)),list((64,64,32,32))],\n",
        "    'mlp__activation': ['tanh', 'relu'],\n",
        "    'pca__n_components':n_components\n",
        "}\n",
        "pipe_mlp1 = Pipeline(steps=[('scaler',scaler),('pca',pca),('ros',ros),('mlp',clf)])\n",
        "estimator_mlp1 = TuneGridSearchCV(pipe_mlp1, parameter_space,loggers=['tensorboard'],scoring='f1_macro')"
      ],
      "metadata": {
        "id": "YvtITM_fPOoc"
      },
      "execution_count": null,
      "outputs": []
    },
    {
      "cell_type": "code",
      "source": [
        "import warnings\n",
        "from sklearn.exceptions import ConvergenceWarning\n",
        "with warnings.catch_warnings():\n",
        "    warnings.filterwarnings(\"ignore\", category=ConvergenceWarning,module='sklearn')\n",
        "    mlp_estimator = train_evaluate(estimator_mlp1,X_train,y_train,X_test,y_test)"
      ],
      "metadata": {
        "id": "dF_3xJnTgHQK"
      },
      "execution_count": null,
      "outputs": []
    },
    {
      "cell_type": "code",
      "source": [
        "print('Testing Accuracy: {:.4f} %'.format(mlp_estimator[0]))\n",
        "print('Testing F1 score: {:.4f} %'.format(mlp_estimator[1]))"
      ],
      "metadata": {
        "colab": {
          "base_uri": "https://localhost:8080/"
        },
        "id": "KTNPmGwxTt9R",
        "outputId": "0d2a9b49-7e83-406f-b9d2-9644b3155c00"
      },
      "execution_count": null,
      "outputs": [
        {
          "output_type": "stream",
          "name": "stdout",
          "text": [
            "Testing Accuracy: 0.8991 %\n",
            "Testing F1 score: 0.9088 %\n"
          ]
        }
      ]
    },
    {
      "cell_type": "code",
      "source": [
        "print(estimator_mlp1.best_estimator_)\n",
        "print('Parameters for best mlp are:', estimator_mlp1.best_params_)\n",
        "time_best_mlp = estimator_mlp1.refit_time\n",
        "print(\"Time to refit best model: {:.3f} sec\".format(time_best_mlp))\n",
        "print(\"Time to test best model: {:.6f} sec\".format(mlp_estimator[3]))\n",
        "print('Mean cross-validated score of the best estimator: {:.4f} %'.format(estimator_mlp1.best_score_))"
      ],
      "metadata": {
        "id": "gxgorFY_Row_",
        "colab": {
          "base_uri": "https://localhost:8080/"
        },
        "outputId": "7ad4e621-f235-439a-8b67-eaa4ceb04046"
      },
      "execution_count": null,
      "outputs": [
        {
          "output_type": "stream",
          "name": "stdout",
          "text": [
            "Pipeline(steps=[('scaler', Normalizer()), ('pca', PCA(n_components=14)),\n",
            "                ('ros', RandomOverSampler()),\n",
            "                ('mlp',\n",
            "                 MLPClassifier(activation='tanh', early_stopping=True,\n",
            "                               hidden_layer_sizes=[64, 64], tol=0.001,\n",
            "                               validation_fraction=0.2))])\n",
            "Parameters for best mlp are: {'mlp__hidden_layer_sizes': [64, 64], 'mlp__activation': 'tanh', 'pca__n_components': 14}\n",
            "Time to refit best model: 19.200 sec\n",
            "Time to test best model: 0.022712 sec\n",
            "Mean cross-validated score of the best estimator: 0.9060 %\n"
          ]
        }
      ]
    },
    {
      "cell_type": "markdown",
      "source": [
        "### **SVM**"
      ],
      "metadata": {
        "id": "vJcDGVNxWlKa"
      }
    },
    {
      "cell_type": "markdown",
      "source": [
        "Προκειμένου να βελτιστοποιήσουμε τα αποτελέσματα αυτού του ταξινομητή δοκιμάσαμε την χρήση διαφορετικών συναρτήσεων πυρήνα καθώς και διαφορετικών τιμών gamma, ώστε να εξετάσουμε διαφορετικές εκφράσεις των συναρτήσεων αυτών. Στόχος μας με αυτόν τον τρόπο είναι να μετασχηματίσουμε τα δεδομένα, ώστε αυτά να γίνουν γραμμικά διαχωρίσιμα σε κάποια μεγαλύτερη διάσταση. \n",
        "\n",
        "Ακόμη εξετάσαμε την χρήση διαφορετικών τιμών της παραμέτρου C, η οποία σχετίζεται με το περιθώριο που επιτρέπει ο αλγόριθμος SVM σε λανθασμένως ταξινομημένα πρότυπα."
      ],
      "metadata": {
        "id": "5PD94yibXkXn"
      }
    },
    {
      "cell_type": "code",
      "source": [
        "clf = SVC()\n",
        "pca = PCA()\n",
        "scaler = MinMaxScaler()\n",
        "param_grid = {'clf__C': [0.1, 1, 10, 100], \n",
        "              'clf__gamma': [1, 0.1, 0.0001],\n",
        "              'clf__kernel': ['rbf','linear'],          \n",
        "              } \n",
        "pipe_svc1 = Pipeline(steps=[('scaler',scaler),('clf',clf)])\n",
        "estimator_svm1 = TuneGridSearchCV(pipe_svc1, param_grid,cv=10, scoring='f1_macro',n_jobs=-1)\n",
        "svm_estimator = train_evaluate(estimator_svm1,X_train,y_train,X_test,y_test)"
      ],
      "metadata": {
        "colab": {
          "base_uri": "https://localhost:8080/",
          "height": 86
        },
        "id": "2eziDcucpk0q",
        "outputId": "cd7386b4-6e8a-43d6-8fc7-a7e3c23138b6"
      },
      "execution_count": null,
      "outputs": [
        {
          "output_type": "display_data",
          "data": {
            "text/plain": [
              "<IPython.core.display.HTML object>"
            ],
            "text/html": []
          },
          "metadata": {}
        },
        {
          "output_type": "stream",
          "name": "stdout",
          "text": [
            "Training Time: 283.034355 sec\n",
            "Testing Time: 0.424565 sec\n",
            "Testing Accuracy: 0.9332 % \n",
            "Testing F1 score: 0.9438 %\n"
          ]
        }
      ]
    },
    {
      "cell_type": "code",
      "source": [
        "print(estimator_svm1.best_estimator_)\n",
        "print('Parameters for best mlp are:', estimator_svm1.best_params_)\n",
        "time_best_svm = estimator_svm1.refit_time\n",
        "print(\"Time to refit best model: {:.3f} sec\".format(time_best_svm))\n",
        "print(\"Time to test best model: {:.6f} sec\".format(svm_estimator[3]))\n",
        "print('Mean cross-validated score of the best estimator: {:.4f} %'.format(estimator_svm1.best_score_))"
      ],
      "metadata": {
        "colab": {
          "base_uri": "https://localhost:8080/"
        },
        "id": "YS5yne5Ftnpp",
        "outputId": "38976eb9-bbd0-4ea9-9518-6af51f191de6"
      },
      "execution_count": null,
      "outputs": [
        {
          "output_type": "stream",
          "name": "stdout",
          "text": [
            "Pipeline(steps=[('scaler', MinMaxScaler()), ('clf', SVC(C=100, gamma=1))])\n",
            "Parameters for best mlp are: {'clf__C': 100, 'clf__gamma': 1, 'clf__kernel': 'rbf'}\n",
            "Time to refit best model: 0.649 sec\n",
            "Time to test best model: 0.424565 sec\n",
            "Mean cross-validated score of the best estimator: 0.9399 %\n"
          ]
        }
      ]
    },
    {
      "cell_type": "markdown",
      "source": [
        "## **Αποτελέσματα και Συμπεράσματα**"
      ],
      "metadata": {
        "id": "Wy-EmSDDu84U"
      }
    },
    {
      "cell_type": "markdown",
      "source": [
        "Παρατηρούμε ότι πραγματοποιώντας προεπεξεργασία στα δεδομένα μας, καθώς και μέσα από την αναζήτηση των καλύτερων υπερ-παραμέτρων των μοντέλων, οδηγούμαστε σε πολύ καλύτερα αποτελέσματα, ιδιαίτερα ως προς την f1 μετρική."
      ],
      "metadata": {
        "id": "mXBhH-ViXz8u"
      }
    },
    {
      "cell_type": "markdown",
      "source": [
        "### *Παρουσίαση αποτελεσμάτων σε πίνακα*"
      ],
      "metadata": {
        "id": "t9CC1emNvWjo"
      }
    },
    {
      "cell_type": "code",
      "source": [
        "classifier = ['Dummy','MLP','SVM']\n",
        "accuracies = [100*dummy_estimator[0],100*mlp_estimator[0],100*svm_estimator[0]]\n",
        "f1_scores = [100*dummy_estimator[1],100*mlp_estimator[1],100*svm_estimator[1]]\n",
        "acc_diff = [100*(dummy_estimator[0]-dummy_eval[0]),100*(mlp_estimator[0]-mlp_eval[0]),\n",
        "            100*(svm_estimator[0]-svm_eval[0])]\n",
        "f1_diff = [100*(dummy_estimator[1]-dummy_eval[1]),100*(mlp_estimator[1]-mlp_eval[1]),\n",
        "           100*(svm_estimator[1]-svm_eval[1])]\n",
        "fit_time = [estimator.refit_time_,time_best_mlp,time_best_svm]\n",
        "test_time = [dummy_estimator[3],mlp_estimator[3],svm_estimator[3]]\n",
        "\n",
        "d = list(zip(classifier,accuracies,f1_scores,acc_diff,f1_diff,fit_time,test_time))\n",
        "\n",
        "results = pd.DataFrame(d,columns = ['Classifier','Accuracy (%)','F1 Macro (%)','Accuracy Difference (%)',\n",
        "                                    'F1 Difference (%)','Fitting Time (sec)',\n",
        "                                    'Testing Time (sec)'],).set_index('Classifier')\n",
        "results = results.style.format(\"{:.4f}\")\n",
        "results = results.set_properties(**{'width':'120px','text-align': 'center'})\n",
        "results"
      ],
      "metadata": {
        "id": "dmcvGjLMX8QJ",
        "colab": {
          "base_uri": "https://localhost:8080/",
          "height": 192
        },
        "outputId": "12454614-661a-4988-d30b-e8c1f6a79250"
      },
      "execution_count": null,
      "outputs": [
        {
          "output_type": "execute_result",
          "data": {
            "text/plain": [
              "<pandas.io.formats.style.Styler at 0x7f42f9446d90>"
            ],
            "text/html": [
              "<style type=\"text/css\">\n",
              "#T_974e1_row0_col0, #T_974e1_row0_col1, #T_974e1_row0_col2, #T_974e1_row0_col3, #T_974e1_row0_col4, #T_974e1_row0_col5, #T_974e1_row1_col0, #T_974e1_row1_col1, #T_974e1_row1_col2, #T_974e1_row1_col3, #T_974e1_row1_col4, #T_974e1_row1_col5, #T_974e1_row2_col0, #T_974e1_row2_col1, #T_974e1_row2_col2, #T_974e1_row2_col3, #T_974e1_row2_col4, #T_974e1_row2_col5 {\n",
              "  width: 120px;\n",
              "  text-align: center;\n",
              "}\n",
              "</style>\n",
              "<table id=\"T_974e1_\" class=\"dataframe\">\n",
              "  <thead>\n",
              "    <tr>\n",
              "      <th class=\"blank level0\" >&nbsp;</th>\n",
              "      <th class=\"col_heading level0 col0\" >Accuracy (%)</th>\n",
              "      <th class=\"col_heading level0 col1\" >F1 Macro (%)</th>\n",
              "      <th class=\"col_heading level0 col2\" >Accuracy Difference (%)</th>\n",
              "      <th class=\"col_heading level0 col3\" >F1 Difference (%)</th>\n",
              "      <th class=\"col_heading level0 col4\" >Fitting Time (sec)</th>\n",
              "      <th class=\"col_heading level0 col5\" >Testing Time (sec)</th>\n",
              "    </tr>\n",
              "    <tr>\n",
              "      <th class=\"index_name level0\" >Classifier</th>\n",
              "      <th class=\"blank col0\" >&nbsp;</th>\n",
              "      <th class=\"blank col1\" >&nbsp;</th>\n",
              "      <th class=\"blank col2\" >&nbsp;</th>\n",
              "      <th class=\"blank col3\" >&nbsp;</th>\n",
              "      <th class=\"blank col4\" >&nbsp;</th>\n",
              "      <th class=\"blank col5\" >&nbsp;</th>\n",
              "    </tr>\n",
              "  </thead>\n",
              "  <tbody>\n",
              "    <tr>\n",
              "      <th id=\"T_974e1_level0_row0\" class=\"row_heading level0 row0\" >Dummy</th>\n",
              "      <td id=\"T_974e1_row0_col0\" class=\"data row0 col0\" >17.8746</td>\n",
              "      <td id=\"T_974e1_row0_col1\" class=\"data row0 col1\" >14.7612</td>\n",
              "      <td id=\"T_974e1_row0_col2\" class=\"data row0 col2\" >-7.6641</td>\n",
              "      <td id=\"T_974e1_row0_col3\" class=\"data row0 col3\" >8.9488</td>\n",
              "      <td id=\"T_974e1_row0_col4\" class=\"data row0 col4\" >0.0012</td>\n",
              "      <td id=\"T_974e1_row0_col5\" class=\"data row0 col5\" >0.0022</td>\n",
              "    </tr>\n",
              "    <tr>\n",
              "      <th id=\"T_974e1_level0_row1\" class=\"row_heading level0 row1\" >MLP</th>\n",
              "      <td id=\"T_974e1_row1_col0\" class=\"data row1 col0\" >89.9119</td>\n",
              "      <td id=\"T_974e1_row1_col1\" class=\"data row1 col1\" >90.8790</td>\n",
              "      <td id=\"T_974e1_row1_col2\" class=\"data row1 col2\" >40.0098</td>\n",
              "      <td id=\"T_974e1_row1_col3\" class=\"data row1 col3\" >51.8283</td>\n",
              "      <td id=\"T_974e1_row1_col4\" class=\"data row1 col4\" >19.2003</td>\n",
              "      <td id=\"T_974e1_row1_col5\" class=\"data row1 col5\" >0.0227</td>\n",
              "    </tr>\n",
              "    <tr>\n",
              "      <th id=\"T_974e1_level0_row2\" class=\"row_heading level0 row2\" >SVM</th>\n",
              "      <td id=\"T_974e1_row2_col0\" class=\"data row2 col0\" >93.3154</td>\n",
              "      <td id=\"T_974e1_row2_col1\" class=\"data row2 col1\" >94.3775</td>\n",
              "      <td id=\"T_974e1_row2_col2\" class=\"data row2 col2\" >30.0686</td>\n",
              "      <td id=\"T_974e1_row2_col3\" class=\"data row2 col3\" >34.6097</td>\n",
              "      <td id=\"T_974e1_row2_col4\" class=\"data row2 col4\" >0.6487</td>\n",
              "      <td id=\"T_974e1_row2_col5\" class=\"data row2 col5\" >0.4246</td>\n",
              "    </tr>\n",
              "  </tbody>\n",
              "</table>\n"
            ]
          },
          "metadata": {},
          "execution_count": 33
        }
      ]
    },
    {
      "cell_type": "markdown",
      "source": [
        "### *Bar Plot*"
      ],
      "metadata": {
        "id": "LWQJMz_nvcLq"
      }
    },
    {
      "cell_type": "code",
      "source": [
        "classifier = ['Dummy','MLP','SVM']\n",
        "accs = [100*dummy_estimator[0],100*mlp_estimator[0],100*svm_estimator[0]]\n",
        "f1_scores = [100*dummy_estimator[1],100*mlp_estimator[1],100*svm_estimator[1]]\n",
        "acc_diff = [100*(dummy_estimator[0]-dummy_eval[0]),100*(mlp_estimator[0]-mlp_eval[0]),\n",
        "            100*(svm_estimator[0]-svm_eval[0])]\n",
        "f1_diff = [100*(dummy_estimator[1]-dummy_eval[1]),100*(mlp_estimator[1]-mlp_eval[1]),\n",
        "           100*(svm_estimator[1]-svm_eval[1])]\n",
        "           \n",
        "data2 = pd.DataFrame()\n",
        "data2['classifier']=classifier\n",
        "data2['acc'] = accs\n",
        "data2['f1_scores'] = f1_scores\n",
        "data2['acc_diff'] = acc_diff\n",
        "data2['f1_diff'] = f1_diff\n",
        "data3 = pd.melt(data2, id_vars =['classifier'], value_vars =['acc', 'f1_scores','acc_diff','f1_diff'])"
      ],
      "metadata": {
        "id": "aiy__BlpVupY"
      },
      "execution_count": null,
      "outputs": []
    },
    {
      "cell_type": "code",
      "source": [
        "plt.figure(figsize=(10,10))\n",
        "sns.barplot(x='classifier',y='value',hue='variable',data=data3)\n",
        "plt.show()"
      ],
      "metadata": {
        "colab": {
          "base_uri": "https://localhost:8080/",
          "height": 606
        },
        "id": "fKjpwh_avp76",
        "outputId": "3c1952f7-ef3a-4555-d79c-1d15ec77d6f8"
      },
      "execution_count": null,
      "outputs": [
        {
          "output_type": "display_data",
          "data": {
            "text/plain": [
              "<Figure size 720x720 with 1 Axes>"
            ],
            "image/png": "[encoded data removed]"
          },
          "metadata": {
            "needs_background": "light"
          }
        }
      ]
    },
    {
      "cell_type": "markdown",
      "source": [
        "### **Confusion Matrices**"
      ],
      "metadata": {
        "id": "-1iqUVEgvCK5"
      }
    },
    {
      "cell_type": "markdown",
      "source": [
        "Παρακάτω δίνονται και τα confusion matrices του MLP και του SVM ταξινομητή (τον dummy, λόγω κακών αποτελεσμάτων, το παραλείπουμε):"
      ],
      "metadata": {
        "id": "XcNchBWHZpBE"
      }
    },
    {
      "cell_type": "code",
      "source": [
        "predictions = estimator_mlp1.predict(X_test)\n",
        "cm = confusion_matrix(y_test, predictions, labels=np.unique(labels))\n",
        "plt.figure(figsize=(8,6))\n",
        "plot_confusion_matrix(cm,classes=cls.unique(),title='MLP Confusion Matrix',normalize = True)"
      ],
      "metadata": {
        "colab": {
          "base_uri": "https://localhost:8080/"
        },
        "id": "100TcZEfIJZc",
        "outputId": "f9bd2326-5112-45e3-90b4-6127374be7c8"
      },
      "execution_count": null,
      "outputs": [
        {
          "output_type": "display_data",
          "data": {
            "text/plain": [
              "<Figure size 576x432 with 2 Axes>"
            ],
            "image/png": "[encoded data removed]"
          },
          "metadata": {
            "needs_background": "light"
          }
        }
      ]
    },
    {
      "cell_type": "code",
      "source": [
        "predictions = estimator_svm1.predict(X_test)\n",
        "cm = confusion_matrix(y_test, predictions, labels=np.unique(labels))\n",
        "plt.figure(figsize=(8,6))\n",
        "plot_confusion_matrix(cm,classes=cls.unique(),title='SVM Confusion Matrix',normalize = True)"
      ],
      "metadata": {
        "id": "LLq5L30-a2Tj",
        "colab": {
          "base_uri": "https://localhost:8080/"
        },
        "outputId": "4b29ee1d-c4df-4bbb-ad45-7498d5d4d4fa"
      },
      "execution_count": null,
      "outputs": [
        {
          "output_type": "display_data",
          "data": {
            "text/plain": [
              "<Figure size 576x432 with 2 Axes>"
            ],
            "image/png": "[encoded data removed]"
          },
          "metadata": {
            "needs_background": "light"
          }
        }
      ]
    },
    {
      "cell_type": "markdown",
      "source": [
        "### **Συμπέρασμα**"
      ],
      "metadata": {
        "id": "nXwLsLiYYYkb"
      }
    },
    {
      "cell_type": "markdown",
      "source": [
        "Συνολικά για όλους τους ταξινομητές μπορούμε να δούμε πως τα καλύτερα αποτελέσματα τα δίνει το SVM, ενώ όπως ήταν αναμενόμενο τα χειρότερα αποτελέσματα τα επιστρέφει ο Dummy, μίας και η απόδοση του εξαρτάται από το πλήθος των δεδομένων σε κάθε κλάση.\n",
        "\n",
        "**Επομένως, ο καταλληλότερος ταξινομητής για το συγκεκριμένο πρόβλημα, είναι ο βελτιστοποιημένος SVM, καθώς εκτός από τις καλύτερες επιδόσεις που εμφανίζει στην πρόβλεψη των testing δεδομένων, έχει και μικρότερες υπολογιστικές απαιτήσεις (μικρότερος χρόνος εκπαίδευσης)**"
      ],
      "metadata": {
        "id": "T7TvPM39YczY"
      }
    }
  ]
}
